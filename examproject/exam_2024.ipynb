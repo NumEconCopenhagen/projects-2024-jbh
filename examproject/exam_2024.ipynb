{
 "cells": [
  {
   "cell_type": "markdown",
   "metadata": {},
   "source": [
    "**Table of contents**<a id='toc0_'></a>    \n",
    "- 1. [Problem 1: Production economy and CO2 taxation](#toc1_)    \n",
    "- 2. [Problem 2: Career choice model](#toc2_)    \n",
    "- 3. [Problem 3: Barycentric interpolation](#toc3_)    \n",
    "\n",
    "<!-- vscode-jupyter-toc-config\n",
    "\tnumbering=true\n",
    "\tanchor=true\n",
    "\tflat=false\n",
    "\tminLevel=2\n",
    "\tmaxLevel=6\n",
    "\t/vscode-jupyter-toc-config -->\n",
    "<!-- THIS CELL WILL BE REPLACED ON TOC UPDATE. DO NOT WRITE YOUR TEXT IN THIS CELL -->"
   ]
  },
  {
   "cell_type": "code",
   "execution_count": 64,
   "metadata": {},
   "outputs": [],
   "source": [
    "# Write your code here\n",
    "import numpy as np\n",
    "import pandas as pd\n",
    "\n",
    "from scipy import optimize\n",
    "\n",
    "np.random.seed(404)"
   ]
  },
  {
   "cell_type": "markdown",
   "metadata": {},
   "source": [
    "## 1. <a id='toc1_'></a>[Problem 1: Production economy and CO2 taxation](#toc0_)"
   ]
  },
  {
   "cell_type": "markdown",
   "metadata": {},
   "source": [
    "Consider a production economy with two firms indexed by $j \\in \\{1,2\\}$. Each produce its own good. They solve\n",
    "\n",
    "$$\n",
    "\\begin{align*}\n",
    "\\max_{y_{j}}\\pi_{j}&=p_{j}y_{j}-w_{j}\\ell_{j}\\\\\\text{s.t.}\\;&y_{j}=A\\ell_{j}^{\\gamma}.\n",
    "\\end{align*}\n",
    "$$\n",
    "\n",
    "Optimal firm behavior is\n",
    "\n",
    "$$\n",
    "\\begin{align*}\n",
    "\\ell_{j}^{\\star}(w,p_{j})&=\\left(\\frac{p_{j}A\\gamma}{w}\\right)^{\\frac{1}{1-\\gamma}} \\\\\n",
    "y_{j}^{\\star}(w,p_{j})&=A\\left(\\ell_{j}^{\\star}(w,p_{j})\\right)^{\\gamma}\n",
    "\\end{align*}\n",
    "$$\n",
    "\n",
    "The implied profits are\n",
    "\n",
    "$$\n",
    "\\pi_{j}^*(w,p_{j})=\\frac{1-\\gamma}{\\gamma}w\\cdot\\left(\\frac{p_{j}A\\gamma}{w}\\right)^{\\frac{1}{1-\\gamma}}\n",
    "$$\n",
    "\n",
    "A single consumer supplies labor, and consumes the goods the firms produce. She also recieves the implied profits of the firm.<br>\n",
    "She solves:\n",
    "\n",
    "$$\n",
    "\\begin{align*}\n",
    "U(p_1,p_2,w,\\tau,T) = \\max_{c_{1},c_{2},\\ell} & \\log(c_{1}^{\\alpha}c_{2}^{1-\\alpha})-\\nu\\frac{\\ell^{1+\\epsilon}}{1+\\epsilon} \\\\\n",
    "\\text{s.t.}\\,\\,\\,&p_{1}c_{1}+(p_{2}+\\tau)c_{2}=w\\ell+T+\\pi_{1}^*(w,p_{1})+\\pi_{2}^*(w,p_{2})\n",
    "\\end{align*}\n",
    "$$\n",
    "\n",
    "where $\\tau$ is a tax and $T$ is lump-sum transfer. <br>\n",
    "For a given $\\ell$, it can be shown that optimal behavior is\n",
    "\n",
    "$$\n",
    "\\begin{align*}\n",
    "c_{1}(\\ell)&=\\alpha\\frac{w\\ell+T+\\pi_{1}^*(w,p_{1})+\\pi_{2}^*(w,p_{2})}{p_{1}} \\\\\n",
    "c_{2}(\\ell)&=(1-\\alpha)\\frac{w\\ell+T+\\pi_{1}^*(w,p_{1})+\\pi_{2}^*(w,p_{2})}{p_{2}+\\tau} \\\\\n",
    "\\end{align*}\n",
    "$$\n",
    "Such that optimal behavior is:\n",
    "$$\n",
    "\\ell^* = \\underset{\\ell}{\\arg\\max} \\log(\\left(c_{1}(\\ell)\\right)^{\\alpha}\\cdot \\left(c_{2}(\\ell)\\right)^{1-\\alpha})-\\nu\\frac{\\ell^{1+\\epsilon}}{1+\\epsilon} \n",
    "$$\n",
    "With optimal consumption:\n",
    "$$\n",
    "\\begin{align*}\n",
    "c_1^*=c_{1}(\\ell^*) \\\\\n",
    "c_2^*=c_{2}(\\ell^*)\\\\\n",
    "\\end{align*}\n",
    "$$\n",
    "\n",
    "\n",
    "The government chooses $\\tau$ and balances its budget so $T=\\tau c_2^*$. We initially set $\\tau,T=0$.\n",
    "\n",
    "Market clearing requires:\n",
    "\n",
    "1. Labor market: $\\ell^* = \\ell_1^* + \\ell_2^*$\n",
    "1. Good market 1: $c_1^* = y_1^*$\n",
    "1. Good market 2: $c_2^* = y_2^*$\n"
   ]
  },
  {
   "cell_type": "markdown",
   "metadata": {},
   "source": [
    "**Question 1:** Check market clearing conditions for $p_1$ in `linspace(0.1,2.0,10)` and $p_2$ in `linspace(0.1,2.0,10)`. We choose $w=1$ as numeraire."
   ]
  },
  {
   "cell_type": "code",
   "execution_count": 2,
   "metadata": {},
   "outputs": [],
   "source": [
    "# firms\n",
    "A = 1.0\n",
    "gamma = 0.5\n",
    "\n",
    "# households\n",
    "alpha = 0.3\n",
    "nu = 1.0\n",
    "epsilon = 2.0\n",
    "\n",
    "# government\n",
    "tau = 0.0\n",
    "T = 0.0\n",
    "\n",
    "# Question 3\n",
    "kappa = 0.1"
   ]
  },
  {
   "cell_type": "code",
   "execution_count": 3,
   "metadata": {},
   "outputs": [],
   "source": [
    "def l_star(p):\n",
    "    return (p*A*gamma)**(1/(1-gamma))\n",
    "def y_star(p):\n",
    "    return A*(l_star(p))**(gamma)\n",
    "def pi_star(p):\n",
    "    return ((1-gamma)/(gamma))*(l_star(p))\n",
    "\n",
    "def utility(c1, c2, L):\n",
    "    return np.log(c1**alpha*c2**(1-alpha))-nu*(L)**(1+epsilon)/(1+epsilon)\n",
    "\n",
    "# Consumer's optimal behavior for a given labor supply\n",
    "def c1_star(L, p1, p2, T):        \n",
    "        return alpha * (L + T + pi_star(p1) + pi_star(p2)) / p1\n",
    "\n",
    "def c2_star(L, p1, p2, T, tau):\n",
    "        return (1 - alpha) * (L + T + pi_star(p1) + pi_star(p2)) / (p2 + tau)\n",
    "\n",
    "def obj(L, p1, p2, T, tau):\n",
    "      return np.log((c1_star(L, p1, p2, T))**(alpha) * (c2_star(L, p1, p2, T, tau))**(1-alpha)) - nu * (L**(1+epsilon))/(1+epsilon)"
   ]
  },
  {
   "cell_type": "code",
   "execution_count": 4,
   "metadata": {},
   "outputs": [
    {
     "data": {
      "text/html": [
       "<div>\n",
       "<style scoped>\n",
       "    .dataframe tbody tr th:only-of-type {\n",
       "        vertical-align: middle;\n",
       "    }\n",
       "\n",
       "    .dataframe tbody tr th {\n",
       "        vertical-align: top;\n",
       "    }\n",
       "\n",
       "    .dataframe thead th {\n",
       "        text-align: right;\n",
       "    }\n",
       "</style>\n",
       "<table border=\"1\" class=\"dataframe\">\n",
       "  <thead>\n",
       "    <tr style=\"text-align: right;\">\n",
       "      <th></th>\n",
       "      <th>p1</th>\n",
       "      <th>p2</th>\n",
       "      <th>goods market clearing</th>\n",
       "      <th>utility</th>\n",
       "      <th>labor</th>\n",
       "      <th>labor market clearing</th>\n",
       "      <th>excess goods</th>\n",
       "      <th>excess labor</th>\n",
       "    </tr>\n",
       "  </thead>\n",
       "  <tbody>\n",
       "    <tr>\n",
       "      <th>0</th>\n",
       "      <td>0.1</td>\n",
       "      <td>0.10</td>\n",
       "      <td>(False, False)</td>\n",
       "      <td>-1.363379</td>\n",
       "      <td>0.998337</td>\n",
       "      <td>False</td>\n",
       "      <td>(2.96, 6.97)</td>\n",
       "      <td>0.99</td>\n",
       "    </tr>\n",
       "    <tr>\n",
       "      <th>1</th>\n",
       "      <td>0.1</td>\n",
       "      <td>0.31</td>\n",
       "      <td>(False, False)</td>\n",
       "      <td>-0.590364</td>\n",
       "      <td>0.991180</td>\n",
       "      <td>False</td>\n",
       "      <td>(3.0, 2.13)</td>\n",
       "      <td>0.96</td>\n",
       "    </tr>\n",
       "    <tr>\n",
       "      <th>2</th>\n",
       "      <td>0.1</td>\n",
       "      <td>0.52</td>\n",
       "      <td>(False, False)</td>\n",
       "      <td>-0.270394</td>\n",
       "      <td>0.976987</td>\n",
       "      <td>False</td>\n",
       "      <td>(3.09, 1.14)</td>\n",
       "      <td>0.91</td>\n",
       "    </tr>\n",
       "    <tr>\n",
       "      <th>3</th>\n",
       "      <td>0.1</td>\n",
       "      <td>0.73</td>\n",
       "      <td>(False, False)</td>\n",
       "      <td>-0.094654</td>\n",
       "      <td>0.956373</td>\n",
       "      <td>False</td>\n",
       "      <td>(3.23, 0.68)</td>\n",
       "      <td>0.82</td>\n",
       "    </tr>\n",
       "    <tr>\n",
       "      <th>4</th>\n",
       "      <td>0.1</td>\n",
       "      <td>0.94</td>\n",
       "      <td>(False, False)</td>\n",
       "      <td>0.003669</td>\n",
       "      <td>0.930205</td>\n",
       "      <td>False</td>\n",
       "      <td>(3.42, 0.38)</td>\n",
       "      <td>0.70</td>\n",
       "    </tr>\n",
       "    <tr>\n",
       "      <th>...</th>\n",
       "      <td>...</td>\n",
       "      <td>...</td>\n",
       "      <td>...</td>\n",
       "      <td>...</td>\n",
       "      <td>...</td>\n",
       "      <td>...</td>\n",
       "      <td>...</td>\n",
       "      <td>...</td>\n",
       "    </tr>\n",
       "    <tr>\n",
       "      <th>95</th>\n",
       "      <td>2.0</td>\n",
       "      <td>1.16</td>\n",
       "      <td>(False, False)</td>\n",
       "      <td>0.324428</td>\n",
       "      <td>0.701025</td>\n",
       "      <td>False</td>\n",
       "      <td>(0.69, 0.65)</td>\n",
       "      <td>0.63</td>\n",
       "    </tr>\n",
       "    <tr>\n",
       "      <th>96</th>\n",
       "      <td>2.0</td>\n",
       "      <td>1.37</td>\n",
       "      <td>(False, False)</td>\n",
       "      <td>0.378232</td>\n",
       "      <td>0.682140</td>\n",
       "      <td>False</td>\n",
       "      <td>(0.68, 0.42)</td>\n",
       "      <td>0.78</td>\n",
       "    </tr>\n",
       "    <tr>\n",
       "      <th>97</th>\n",
       "      <td>2.0</td>\n",
       "      <td>1.58</td>\n",
       "      <td>(False, False)</td>\n",
       "      <td>0.408647</td>\n",
       "      <td>0.661682</td>\n",
       "      <td>False</td>\n",
       "      <td>(0.66, 0.22)</td>\n",
       "      <td>0.96</td>\n",
       "    </tr>\n",
       "    <tr>\n",
       "      <th>98</th>\n",
       "      <td>2.0</td>\n",
       "      <td>1.79</td>\n",
       "      <td>(False, False)</td>\n",
       "      <td>0.421295</td>\n",
       "      <td>0.640165</td>\n",
       "      <td>False</td>\n",
       "      <td>(0.63, 0.06)</td>\n",
       "      <td>1.16</td>\n",
       "    </tr>\n",
       "    <tr>\n",
       "      <th>99</th>\n",
       "      <td>2.0</td>\n",
       "      <td>2.00</td>\n",
       "      <td>(False, False)</td>\n",
       "      <td>0.420277</td>\n",
       "      <td>0.618030</td>\n",
       "      <td>False</td>\n",
       "      <td>(0.61, 0.08)</td>\n",
       "      <td>1.38</td>\n",
       "    </tr>\n",
       "  </tbody>\n",
       "</table>\n",
       "<p>100 rows × 8 columns</p>\n",
       "</div>"
      ],
      "text/plain": [
       "     p1    p2 goods market clearing   utility     labor  \\\n",
       "0   0.1  0.10        (False, False) -1.363379  0.998337   \n",
       "1   0.1  0.31        (False, False) -0.590364  0.991180   \n",
       "2   0.1  0.52        (False, False) -0.270394  0.976987   \n",
       "3   0.1  0.73        (False, False) -0.094654  0.956373   \n",
       "4   0.1  0.94        (False, False)  0.003669  0.930205   \n",
       "..  ...   ...                   ...       ...       ...   \n",
       "95  2.0  1.16        (False, False)  0.324428  0.701025   \n",
       "96  2.0  1.37        (False, False)  0.378232  0.682140   \n",
       "97  2.0  1.58        (False, False)  0.408647  0.661682   \n",
       "98  2.0  1.79        (False, False)  0.421295  0.640165   \n",
       "99  2.0  2.00        (False, False)  0.420277  0.618030   \n",
       "\n",
       "    labor market clearing  excess goods  excess labor  \n",
       "0                   False  (2.96, 6.97)          0.99  \n",
       "1                   False   (3.0, 2.13)          0.96  \n",
       "2                   False  (3.09, 1.14)          0.91  \n",
       "3                   False  (3.23, 0.68)          0.82  \n",
       "4                   False  (3.42, 0.38)          0.70  \n",
       "..                    ...           ...           ...  \n",
       "95                  False  (0.69, 0.65)          0.63  \n",
       "96                  False  (0.68, 0.42)          0.78  \n",
       "97                  False  (0.66, 0.22)          0.96  \n",
       "98                  False  (0.63, 0.06)          1.16  \n",
       "99                  False  (0.61, 0.08)          1.38  \n",
       "\n",
       "[100 rows x 8 columns]"
      ]
     },
     "execution_count": 4,
     "metadata": {},
     "output_type": "execute_result"
    }
   ],
   "source": [
    "P = (np.linspace(0.1, 2, 10), np.linspace(0.1, 2, 10))\n",
    "P1 = np.linspace(0.1, 2, 10)\n",
    "P2 = np.linspace(0.1, 2, 10)\n",
    "\n",
    "res = []\n",
    "\n",
    "for p1 in P1:\n",
    "    for p2 in P2:\n",
    "        l_star1 = l_star(p1)\n",
    "        l_star2 = l_star(p2)\n",
    "        y_star1 = y_star(p1)\n",
    "        y_star2 = y_star(p2) \n",
    "\n",
    "        pi_star1 = pi_star(p1)\n",
    "        pi_star2 = pi_star(p2)\n",
    "\n",
    "        res_opt = optimize.minimize(lambda L: -obj(L, p1, p2, T, tau), x0=0, method='BFGS')\n",
    "\n",
    "        L_star = res_opt.x[0]\n",
    "        u_star = res_opt.fun\n",
    "\n",
    "        # Calculate optimal consumption\n",
    "        c1_star_opt = c1_star(L_star, p1, p2, T)\n",
    "        c2_star_opt = c2_star(L_star, p1, p2, T, tau)\n",
    "\n",
    "        # Market clears?\n",
    "        cond1 = np.isclose(L_star, l_star1 + l_star2)\n",
    "        cond2 = np.isclose(c1_star_opt, y_star1)\n",
    "        cond3 = np.isclose(c2_star_opt, y_star2)\n",
    "\n",
    "        excess_good1 = abs(c1_star_opt - y_star1)\n",
    "        excess_good2 = abs(c2_star_opt - y_star2)\n",
    "        excess_labor = abs(L_star - l_star1 - l_star2)\n",
    "\n",
    "        res.append({\n",
    "            'p1': p1.round(2),\n",
    "            'p2': p2.round(2),\n",
    "            'goods market clearing': (cond2, cond3),\n",
    "            'utility': u_star,\n",
    "            'labor': L_star,\n",
    "            'labor market clearing': cond1,\n",
    "            'excess goods': (excess_good1.round(2), excess_good2.round(2)),\n",
    "            'excess labor': excess_labor.round(2)\n",
    "        })\n",
    "\n",
    "import pandas as pd\n",
    "\n",
    "tab1 = pd.DataFrame(res)\n",
    "tab1"
   ]
  },
  {
   "cell_type": "code",
   "execution_count": 5,
   "metadata": {},
   "outputs": [
    {
     "data": {
      "text/html": [
       "<div>\n",
       "<style scoped>\n",
       "    .dataframe tbody tr th:only-of-type {\n",
       "        vertical-align: middle;\n",
       "    }\n",
       "\n",
       "    .dataframe tbody tr th {\n",
       "        vertical-align: top;\n",
       "    }\n",
       "\n",
       "    .dataframe thead th {\n",
       "        text-align: right;\n",
       "    }\n",
       "</style>\n",
       "<table border=\"1\" class=\"dataframe\">\n",
       "  <thead>\n",
       "    <tr style=\"text-align: right;\">\n",
       "      <th></th>\n",
       "      <th>p1</th>\n",
       "      <th>p2</th>\n",
       "      <th>goods market clearing</th>\n",
       "      <th>utility</th>\n",
       "      <th>labor</th>\n",
       "      <th>labor market clearing</th>\n",
       "      <th>excess goods</th>\n",
       "      <th>excess labor</th>\n",
       "    </tr>\n",
       "  </thead>\n",
       "  <tbody>\n",
       "    <tr>\n",
       "      <th>46</th>\n",
       "      <td>0.94</td>\n",
       "      <td>1.37</td>\n",
       "      <td>(False, False)</td>\n",
       "      <td>0.584075</td>\n",
       "      <td>0.815123</td>\n",
       "      <td>False</td>\n",
       "      <td>(0.01, 0.09)</td>\n",
       "      <td>0.13</td>\n",
       "    </tr>\n",
       "  </tbody>\n",
       "</table>\n",
       "</div>"
      ],
      "text/plain": [
       "      p1    p2 goods market clearing   utility     labor  \\\n",
       "46  0.94  1.37        (False, False)  0.584075  0.815123   \n",
       "\n",
       "    labor market clearing  excess goods  excess labor  \n",
       "46                  False  (0.01, 0.09)          0.13  "
      ]
     },
     "execution_count": 5,
     "metadata": {},
     "output_type": "execute_result"
    }
   ],
   "source": [
    "idx_goods = tab1['excess goods'].min()\n",
    "tab1[tab1['excess goods']==idx_goods]"
   ]
  },
  {
   "cell_type": "markdown",
   "metadata": {},
   "source": [
    "**Question 2:** Find the equilibrium prices $p_1$ and $p_2$.<br>\n",
    "*Hint: you can use Walras' law to only check 2 of the market clearings*"
   ]
  },
  {
   "cell_type": "code",
   "execution_count": 6,
   "metadata": {},
   "outputs": [
    {
     "name": "stdout",
     "output_type": "stream",
     "text": [
      "Prices (p1, p2)=(0.94, 1.37) has the lowest market clearing error and is thus the equilibrium prices.\n"
     ]
    }
   ],
   "source": [
    "# For which p1, p2 has the lowest market clearing error?\n",
    "idx_goods = tab1['excess goods'].min()\n",
    "p1_star, p2_star = tab1[tab1['excess goods']==idx_goods].loc[:, ['p1', 'p2']].values[0]\n",
    "L_star_opt = tab1[tab1['excess goods']==idx_goods].loc[:, ['labor']].values[0]\n",
    "\n",
    "print(f'Prices (p1, p2)=({p1_star:.2f}, {p2_star:.2f}) has the lowest market clearing error and is thus the equilibrium prices.')"
   ]
  },
  {
   "cell_type": "markdown",
   "metadata": {},
   "source": [
    "Assume the government care about the social welfare function:\n",
    "\n",
    "$$\n",
    "SWF = U - \\kappa y_2^*\n",
    "$$"
   ]
  },
  {
   "cell_type": "markdown",
   "metadata": {},
   "source": [
    "Here $\\kappa$ measures the social cost of carbon emitted by the production of $y_2$ in equilibrium."
   ]
  },
  {
   "cell_type": "markdown",
   "metadata": {},
   "source": [
    "**Question 3:** What values of $\\tau$ and (implied) $T$ should the government choose to maximize $SWF$?"
   ]
  },
  {
   "cell_type": "code",
   "execution_count": 7,
   "metadata": {},
   "outputs": [],
   "source": [
    "def obj_gov(L, p1, p2, T, tau):\n",
    "      return np.log((c1_star(L, p1, p2, T))**(alpha) * (c2_star(L, p1, p2, T, tau))**(1-alpha)) - nu * (L**(1+epsilon))/(1+epsilon) - kappa*y_star(p2)"
   ]
  },
  {
   "cell_type": "code",
   "execution_count": 8,
   "metadata": {},
   "outputs": [],
   "source": [
    "y_star2_opt = y_star(p2_star)"
   ]
  },
  {
   "cell_type": "code",
   "execution_count": null,
   "metadata": {},
   "outputs": [],
   "source": [
    "def obj(L, p1, p2, T, tau):\n",
    "      return np.log((c1_star(L, p1, p2, T))**(alpha) * (c2_star(L, p1, p2, T, tau))**(1-alpha)) - nu * (L**(1+epsilon))/(1+epsilon)"
   ]
  },
  {
   "cell_type": "code",
   "execution_count": 19,
   "metadata": {},
   "outputs": [
    {
     "data": {
      "text/plain": [
       "0.0"
      ]
     },
     "execution_count": 19,
     "metadata": {},
     "output_type": "execute_result"
    }
   ],
   "source": [
    "tau\n",
    "T"
   ]
  },
  {
   "cell_type": "code",
   "execution_count": 21,
   "metadata": {},
   "outputs": [
    {
     "data": {
      "text/html": [
       "<div>\n",
       "<style scoped>\n",
       "    .dataframe tbody tr th:only-of-type {\n",
       "        vertical-align: middle;\n",
       "    }\n",
       "\n",
       "    .dataframe tbody tr th {\n",
       "        vertical-align: top;\n",
       "    }\n",
       "\n",
       "    .dataframe thead th {\n",
       "        text-align: right;\n",
       "    }\n",
       "</style>\n",
       "<table border=\"1\" class=\"dataframe\">\n",
       "  <thead>\n",
       "    <tr style=\"text-align: right;\">\n",
       "      <th></th>\n",
       "      <th>p1</th>\n",
       "      <th>p2</th>\n",
       "      <th>goods market clearing</th>\n",
       "      <th>utility</th>\n",
       "      <th>labor</th>\n",
       "      <th>labor market clearing</th>\n",
       "      <th>excess goods</th>\n",
       "      <th>excess labor</th>\n",
       "    </tr>\n",
       "  </thead>\n",
       "  <tbody>\n",
       "    <tr>\n",
       "      <th>0</th>\n",
       "      <td>0.1</td>\n",
       "      <td>0.10</td>\n",
       "      <td>(False, False)</td>\n",
       "      <td>-1.363379</td>\n",
       "      <td>0.998337</td>\n",
       "      <td>False</td>\n",
       "      <td>(2.96, 6.97)</td>\n",
       "      <td>0.99</td>\n",
       "    </tr>\n",
       "    <tr>\n",
       "      <th>1</th>\n",
       "      <td>0.1</td>\n",
       "      <td>0.31</td>\n",
       "      <td>(False, False)</td>\n",
       "      <td>-0.590364</td>\n",
       "      <td>0.991180</td>\n",
       "      <td>False</td>\n",
       "      <td>(3.0, 2.13)</td>\n",
       "      <td>0.96</td>\n",
       "    </tr>\n",
       "    <tr>\n",
       "      <th>2</th>\n",
       "      <td>0.1</td>\n",
       "      <td>0.52</td>\n",
       "      <td>(False, False)</td>\n",
       "      <td>-0.270394</td>\n",
       "      <td>0.976987</td>\n",
       "      <td>False</td>\n",
       "      <td>(3.09, 1.14)</td>\n",
       "      <td>0.91</td>\n",
       "    </tr>\n",
       "    <tr>\n",
       "      <th>3</th>\n",
       "      <td>0.1</td>\n",
       "      <td>0.73</td>\n",
       "      <td>(False, False)</td>\n",
       "      <td>-0.094654</td>\n",
       "      <td>0.956373</td>\n",
       "      <td>False</td>\n",
       "      <td>(3.23, 0.68)</td>\n",
       "      <td>0.82</td>\n",
       "    </tr>\n",
       "    <tr>\n",
       "      <th>4</th>\n",
       "      <td>0.1</td>\n",
       "      <td>0.94</td>\n",
       "      <td>(False, False)</td>\n",
       "      <td>0.003669</td>\n",
       "      <td>0.930205</td>\n",
       "      <td>False</td>\n",
       "      <td>(3.42, 0.38)</td>\n",
       "      <td>0.70</td>\n",
       "    </tr>\n",
       "    <tr>\n",
       "      <th>...</th>\n",
       "      <td>...</td>\n",
       "      <td>...</td>\n",
       "      <td>...</td>\n",
       "      <td>...</td>\n",
       "      <td>...</td>\n",
       "      <td>...</td>\n",
       "      <td>...</td>\n",
       "      <td>...</td>\n",
       "    </tr>\n",
       "    <tr>\n",
       "      <th>295</th>\n",
       "      <td>2.0</td>\n",
       "      <td>1.16</td>\n",
       "      <td>(False, False)</td>\n",
       "      <td>0.408678</td>\n",
       "      <td>0.652002</td>\n",
       "      <td>False</td>\n",
       "      <td>(0.65, 0.42)</td>\n",
       "      <td>0.68</td>\n",
       "    </tr>\n",
       "    <tr>\n",
       "      <th>296</th>\n",
       "      <td>2.0</td>\n",
       "      <td>1.37</td>\n",
       "      <td>(False, False)</td>\n",
       "      <td>0.437467</td>\n",
       "      <td>0.636313</td>\n",
       "      <td>False</td>\n",
       "      <td>(0.63, 0.24)</td>\n",
       "      <td>0.83</td>\n",
       "    </tr>\n",
       "    <tr>\n",
       "      <th>297</th>\n",
       "      <td>2.0</td>\n",
       "      <td>1.58</td>\n",
       "      <td>(False, False)</td>\n",
       "      <td>0.451243</td>\n",
       "      <td>0.619209</td>\n",
       "      <td>False</td>\n",
       "      <td>(0.61, 0.09)</td>\n",
       "      <td>1.00</td>\n",
       "    </tr>\n",
       "    <tr>\n",
       "      <th>298</th>\n",
       "      <td>2.0</td>\n",
       "      <td>1.79</td>\n",
       "      <td>(False, False)</td>\n",
       "      <td>0.452851</td>\n",
       "      <td>0.601097</td>\n",
       "      <td>False</td>\n",
       "      <td>(0.58, 0.05)</td>\n",
       "      <td>1.20</td>\n",
       "    </tr>\n",
       "    <tr>\n",
       "      <th>299</th>\n",
       "      <td>2.0</td>\n",
       "      <td>2.00</td>\n",
       "      <td>(False, False)</td>\n",
       "      <td>0.444620</td>\n",
       "      <td>0.582334</td>\n",
       "      <td>False</td>\n",
       "      <td>(0.56, 0.17)</td>\n",
       "      <td>1.42</td>\n",
       "    </tr>\n",
       "  </tbody>\n",
       "</table>\n",
       "<p>300 rows × 8 columns</p>\n",
       "</div>"
      ],
      "text/plain": [
       "      p1    p2 goods market clearing   utility     labor  \\\n",
       "0    0.1  0.10        (False, False) -1.363379  0.998337   \n",
       "1    0.1  0.31        (False, False) -0.590364  0.991180   \n",
       "2    0.1  0.52        (False, False) -0.270394  0.976987   \n",
       "3    0.1  0.73        (False, False) -0.094654  0.956373   \n",
       "4    0.1  0.94        (False, False)  0.003669  0.930205   \n",
       "..   ...   ...                   ...       ...       ...   \n",
       "295  2.0  1.16        (False, False)  0.408678  0.652002   \n",
       "296  2.0  1.37        (False, False)  0.437467  0.636313   \n",
       "297  2.0  1.58        (False, False)  0.451243  0.619209   \n",
       "298  2.0  1.79        (False, False)  0.452851  0.601097   \n",
       "299  2.0  2.00        (False, False)  0.444620  0.582334   \n",
       "\n",
       "     labor market clearing  excess goods  excess labor  \n",
       "0                    False  (2.96, 6.97)          0.99  \n",
       "1                    False   (3.0, 2.13)          0.96  \n",
       "2                    False  (3.09, 1.14)          0.91  \n",
       "3                    False  (3.23, 0.68)          0.82  \n",
       "4                    False  (3.42, 0.38)          0.70  \n",
       "..                     ...           ...           ...  \n",
       "295                  False  (0.65, 0.42)          0.68  \n",
       "296                  False  (0.63, 0.24)          0.83  \n",
       "297                  False  (0.61, 0.09)          1.00  \n",
       "298                  False  (0.58, 0.05)          1.20  \n",
       "299                  False  (0.56, 0.17)          1.42  \n",
       "\n",
       "[300 rows x 8 columns]"
      ]
     },
     "execution_count": 21,
     "metadata": {},
     "output_type": "execute_result"
    }
   ],
   "source": [
    "tau = 0.5\n",
    "T = tau*c2_star_opt\n",
    "for p1 in P1:\n",
    "    for p2 in P2:\n",
    "        l_star1 = l_star(p1)\n",
    "        l_star2 = l_star(p2)\n",
    "        y_star1 = y_star(p1)\n",
    "        y_star2 = y_star(p2) \n",
    "\n",
    "        pi_star1 = pi_star(p1)\n",
    "        pi_star2 = pi_star(p2)\n",
    "\n",
    "        res_opt = optimize.minimize(lambda L: -obj(L, p1, p2, T, tau), x0=0, method='BFGS')\n",
    "\n",
    "        L_star = res_opt.x[0]\n",
    "        u_star = res_opt.fun\n",
    "\n",
    "        # Calculate optimal consumption\n",
    "        c1_star_opt = c1_star(L_star, p1, p2, T)\n",
    "        c2_star_opt = c2_star(L_star, p1, p2, T, tau)\n",
    "\n",
    "        # Market clears?\n",
    "        cond1 = np.isclose(L_star, l_star1 + l_star2)\n",
    "        cond2 = np.isclose(c1_star_opt, y_star1)\n",
    "        cond3 = np.isclose(c2_star_opt, y_star2)\n",
    "\n",
    "        excess_good1 = abs(c1_star_opt - y_star1)\n",
    "        excess_good2 = abs(c2_star_opt - y_star2)\n",
    "        excess_labor = abs(L_star - l_star1 - l_star2)\n",
    "\n",
    "        res.append({\n",
    "            'p1': p1.round(2),\n",
    "            'p2': p2.round(2),\n",
    "            'goods market clearing': (cond2, cond3),\n",
    "            'utility': u_star,\n",
    "            'labor': L_star,\n",
    "            'labor market clearing': cond1,\n",
    "            'excess goods': (excess_good1.round(2), excess_good2.round(2)),\n",
    "            'excess labor': excess_labor.round(2)\n",
    "        })\n",
    "\n",
    "import pandas as pd\n",
    "\n",
    "tab2 = pd.DataFrame(res)\n",
    "tab2"
   ]
  },
  {
   "cell_type": "code",
   "execution_count": 22,
   "metadata": {},
   "outputs": [
    {
     "data": {
      "text/plain": [
       "array([-0.58424103])"
      ]
     },
     "execution_count": 22,
     "metadata": {},
     "output_type": "execute_result"
    }
   ],
   "source": [
    "obj(L_star_opt, p1_star, p2_star, 0, 0)"
   ]
  },
  {
   "cell_type": "code",
   "execution_count": 12,
   "metadata": {},
   "outputs": [
    {
     "data": {
      "text/plain": [
       "0.3927045365570219"
      ]
     },
     "execution_count": 12,
     "metadata": {},
     "output_type": "execute_result"
    }
   ],
   "source": [
    "c1_star_opt"
   ]
  },
  {
   "cell_type": "code",
   "execution_count": 13,
   "metadata": {},
   "outputs": [
    {
     "data": {
      "text/plain": [
       "0.9163105852997179"
      ]
     },
     "execution_count": 13,
     "metadata": {},
     "output_type": "execute_result"
    }
   ],
   "source": [
    "c2_star_opt"
   ]
  },
  {
   "cell_type": "code",
   "execution_count": 15,
   "metadata": {},
   "outputs": [
    {
     "data": {
      "text/plain": [
       "array([-0.59061851])"
      ]
     },
     "execution_count": 15,
     "metadata": {},
     "output_type": "execute_result"
    }
   ],
   "source": [
    "SWF = utility(c1_star_opt, c2_star_opt, L_star_opt) - kappa*y_star2_opt\n",
    "SWF"
   ]
  },
  {
   "cell_type": "code",
   "execution_count": 17,
   "metadata": {},
   "outputs": [],
   "source": [
    "def SWF(c1_star_opt, c2_star_opt, L_star_opt, tau):\n",
    "\n",
    "    T = tau*c2_star_opt\n",
    "\n",
    "    c1 = c1_star(L_star_opt, p1,  p2, T)\n",
    "    c2 = c2_star(L_star_opt, p1, p2, T, tau)\n",
    "    return -(np.log(c1**alpha*c2**(1-alpha))-nu*(L_star_opt)**(1+epsilon)/(1+epsilon) - kappa*y_star2_opt)"
   ]
  },
  {
   "cell_type": "code",
   "execution_count": null,
   "metadata": {},
   "outputs": [],
   "source": [
    "SWF()"
   ]
  },
  {
   "cell_type": "code",
   "execution_count": 142,
   "metadata": {},
   "outputs": [
    {
     "data": {
      "text/plain": [
       "array([5.36344551e-06])"
      ]
     },
     "execution_count": 142,
     "metadata": {},
     "output_type": "execute_result"
    }
   ],
   "source": [
    "res = optimize.minimize_scalar(obj, method='bounded', bounds=(0, 10))\n",
    "res.x"
   ]
  },
  {
   "cell_type": "markdown",
   "metadata": {},
   "source": [
    "## 2. <a id='toc2_'></a>[Problem 2: Career choice model](#toc0_)"
   ]
  },
  {
   "cell_type": "markdown",
   "metadata": {},
   "source": [
    "Consider a graduate $i$ making a choice between entering $J$ different career tracks. <br>\n",
    "Entering career $j$ yields utility $u^k_{ij}$. This value is unknown to the graduate ex ante, but will ex post be: <br>\n",
    "$$\n",
    "    u_{i,j}^k = v_{j} + \\epsilon_{i,j}^k\n",
    "$$\n",
    "\n",
    "They know that $\\epsilon^k_{i,j}\\sim \\mathcal{N}(0,\\sigma^2)$, but they do not observe $\\epsilon^k_{i,j}$ before making their career choice. <br>"
   ]
  },
  {
   "cell_type": "markdown",
   "metadata": {},
   "source": [
    "Consider the concrete case of $J=3$ with:\n",
    "$$\n",
    "\\begin{align*}\n",
    "    v_{1} &= 1 \\\\\n",
    "    v_{2} &= 2 \\\\\n",
    "    v_{3} &= 3\n",
    "\\end{align*}\n",
    "$$"
   ]
  },
  {
   "cell_type": "markdown",
   "metadata": {},
   "source": [
    "If the graduates know the values of $v_j$ and the distribution of $\\epsilon_{i,j}^k$, they can calculate the expected utility of each career track using simulation: <br>\n",
    "$$\n",
    "    \\mathbb{E}\\left[ u^k_{i,j}\\vert v_j \\right] \\approx v_j + \\frac{1}{K}\\sum_{k=1}^K \\epsilon_{i,j}^k\n",
    "$$"
   ]
  },
  {
   "cell_type": "code",
   "execution_count": 23,
   "metadata": {},
   "outputs": [],
   "source": [
    "J = 3\n",
    "N = 10\n",
    "K = 10000\n",
    "\n",
    "F = np.arange(1,N+1)\n",
    "sigma = 2\n",
    "\n",
    "v = np.array([1,2,3])\n",
    "c = 1"
   ]
  },
  {
   "cell_type": "markdown",
   "metadata": {},
   "source": [
    "**Question 1:** Simulate and calculate expected utility and the average realised utility for $K=10000$ draws, for each career choice $j$.\n"
   ]
  },
  {
   "cell_type": "code",
   "execution_count": 74,
   "metadata": {},
   "outputs": [],
   "source": [
    "eps_ijk = [np.random.normal(0, sigma, size=K), np.random.normal(0, sigma, size=K), np.random.normal(0, sigma, size=K)]"
   ]
  },
  {
   "cell_type": "code",
   "execution_count": 75,
   "metadata": {},
   "outputs": [
    {
     "data": {
      "text/html": [
       "<div>\n",
       "<style scoped>\n",
       "    .dataframe tbody tr th:only-of-type {\n",
       "        vertical-align: middle;\n",
       "    }\n",
       "\n",
       "    .dataframe tbody tr th {\n",
       "        vertical-align: top;\n",
       "    }\n",
       "\n",
       "    .dataframe thead th {\n",
       "        text-align: right;\n",
       "    }\n",
       "</style>\n",
       "<table border=\"1\" class=\"dataframe\">\n",
       "  <thead>\n",
       "    <tr style=\"text-align: right;\">\n",
       "      <th></th>\n",
       "      <th>u1</th>\n",
       "      <th>u2</th>\n",
       "      <th>u3</th>\n",
       "    </tr>\n",
       "  </thead>\n",
       "  <tbody>\n",
       "    <tr>\n",
       "      <th>0</th>\n",
       "      <td>1.042342</td>\n",
       "      <td>2.002273</td>\n",
       "      <td>2.984203</td>\n",
       "    </tr>\n",
       "  </tbody>\n",
       "</table>\n",
       "</div>"
      ],
      "text/plain": [
       "         u1        u2        u3\n",
       "0  1.042342  2.002273  2.984203"
      ]
     },
     "execution_count": 75,
     "metadata": {},
     "output_type": "execute_result"
    }
   ],
   "source": [
    "res = []\n",
    "\n",
    "res.append({\n",
    "    'u1': v[0] + 1/K * eps_ijk[0].sum(),\n",
    "    'u2': v[1] + 1/K * eps_ijk[1].sum(),\n",
    "    'u3': v[2] + 1/K * eps_ijk[2].sum()\n",
    "})\n",
    "\n",
    "tab3 = pd.DataFrame(res)\n",
    "tab3"
   ]
  },
  {
   "cell_type": "code",
   "execution_count": 76,
   "metadata": {},
   "outputs": [
    {
     "data": {
      "text/html": [
       "<div>\n",
       "<style scoped>\n",
       "    .dataframe tbody tr th:only-of-type {\n",
       "        vertical-align: middle;\n",
       "    }\n",
       "\n",
       "    .dataframe tbody tr th {\n",
       "        vertical-align: top;\n",
       "    }\n",
       "\n",
       "    .dataframe thead th {\n",
       "        text-align: right;\n",
       "    }\n",
       "</style>\n",
       "<table border=\"1\" class=\"dataframe\">\n",
       "  <thead>\n",
       "    <tr style=\"text-align: right;\">\n",
       "      <th></th>\n",
       "      <th>u1</th>\n",
       "      <th>u2</th>\n",
       "      <th>u3</th>\n",
       "    </tr>\n",
       "  </thead>\n",
       "  <tbody>\n",
       "    <tr>\n",
       "      <th>0</th>\n",
       "      <td>1.042342</td>\n",
       "      <td>2.002273</td>\n",
       "      <td>2.984203</td>\n",
       "    </tr>\n",
       "  </tbody>\n",
       "</table>\n",
       "</div>"
      ],
      "text/plain": [
       "         u1        u2        u3\n",
       "0  1.042342  2.002273  2.984203"
      ]
     },
     "execution_count": 76,
     "metadata": {},
     "output_type": "execute_result"
    }
   ],
   "source": [
    "res = []\n",
    "\n",
    "res.append({\n",
    "    'u1': v[0] + np.mean(eps_ijk[0]),\n",
    "    'u2': v[1] + np.mean(eps_ijk[1]),\n",
    "    'u3': v[2] + np.mean(eps_ijk[2])\n",
    "})\n",
    "\n",
    "tab3 = pd.DataFrame(res)\n",
    "tab3"
   ]
  },
  {
   "cell_type": "markdown",
   "metadata": {},
   "source": [
    "Now consider a new scenario: Imagine that the graduate does not know $v_j$. The *only* prior information they have on the value of each job, comes from their $F_{i}$ friends that work in each career $j$. After talking with them, they know the average utility of their friends (which includes their friends' noise term), giving them the prior expecation: <br>\n",
    "$$\n",
    "\\tilde{u}^k_{i,j}\\left( F_{i}\\right) = \\frac{1}{F_{i}}\\sum_{f=1}^{F_{i}} \\left(v_{j} + \\epsilon^k_{f,j}\\right), \\; \\epsilon^k_{f,j}\\sim \\mathcal{N}(0,\\sigma^2)\n",
    "$$\n",
    "For ease of notation consider that each graduate have $F_{i}=i$ friends in each career. <br>"
   ]
  },
  {
   "cell_type": "markdown",
   "metadata": {},
   "source": [
    "For $K$ times do the following: <br>\n",
    "1. For each person $i$ draw $J\\cdot F_i$ values of $\\epsilon_{f,j}^{k}$, and calculate the prior expected utility of each career track, $\\tilde{u}^k_{i,j}\\left( F_{i}\\right)$. <br>\n",
    "Also draw their own $J$ noise terms, $\\epsilon_{i,j}^k$\n",
    "1. Each person $i$ chooses the career track with the highest expected utility: $$j_i^{k*}= \\arg\\max_{j\\in{1,2\\dots,J}}\\left\\{ \\tilde{u}^k_{i,j}\\left( F_{i}\\right)\\right\\} $$\n",
    "1. Store the chosen careers: $j_i^{k*}$, the prior expectation of the value of their chosen career: $\\tilde{u}^k_{i,j=j_i^{k*}}\\left( F_{i}\\right)$, and the realized value of their chosen career track: $u^k_{i,j=j_i^{k*}}=v_{j=j_i^{k*}}+\\epsilon_{i,j=j_i^{k*}}^k$."
   ]
  },
  {
   "cell_type": "code",
   "execution_count": 67,
   "metadata": {},
   "outputs": [
    {
     "data": {
      "text/html": [
       "<div>\n",
       "<style scoped>\n",
       "    .dataframe tbody tr th:only-of-type {\n",
       "        vertical-align: middle;\n",
       "    }\n",
       "\n",
       "    .dataframe tbody tr th {\n",
       "        vertical-align: top;\n",
       "    }\n",
       "\n",
       "    .dataframe thead th {\n",
       "        text-align: right;\n",
       "    }\n",
       "</style>\n",
       "<table border=\"1\" class=\"dataframe\">\n",
       "  <thead>\n",
       "    <tr style=\"text-align: right;\">\n",
       "      <th></th>\n",
       "      <th>u1</th>\n",
       "      <th>u2</th>\n",
       "      <th>u3</th>\n",
       "    </tr>\n",
       "  </thead>\n",
       "  <tbody>\n",
       "    <tr>\n",
       "      <th>0</th>\n",
       "      <td>1.688437</td>\n",
       "      <td>2.688437</td>\n",
       "      <td>3.688437</td>\n",
       "    </tr>\n",
       "    <tr>\n",
       "      <th>1</th>\n",
       "      <td>-3.448593</td>\n",
       "      <td>-2.948593</td>\n",
       "      <td>-2.448593</td>\n",
       "    </tr>\n",
       "    <tr>\n",
       "      <th>2</th>\n",
       "      <td>2.919418</td>\n",
       "      <td>3.252751</td>\n",
       "      <td>3.586084</td>\n",
       "    </tr>\n",
       "    <tr>\n",
       "      <th>3</th>\n",
       "      <td>1.295610</td>\n",
       "      <td>1.545610</td>\n",
       "      <td>1.795610</td>\n",
       "    </tr>\n",
       "    <tr>\n",
       "      <th>4</th>\n",
       "      <td>1.530175</td>\n",
       "      <td>1.730175</td>\n",
       "      <td>1.930175</td>\n",
       "    </tr>\n",
       "    <tr>\n",
       "      <th>5</th>\n",
       "      <td>1.017616</td>\n",
       "      <td>1.184283</td>\n",
       "      <td>1.350950</td>\n",
       "    </tr>\n",
       "    <tr>\n",
       "      <th>6</th>\n",
       "      <td>1.080900</td>\n",
       "      <td>1.223757</td>\n",
       "      <td>1.366614</td>\n",
       "    </tr>\n",
       "    <tr>\n",
       "      <th>7</th>\n",
       "      <td>2.433986</td>\n",
       "      <td>2.558986</td>\n",
       "      <td>2.683986</td>\n",
       "    </tr>\n",
       "    <tr>\n",
       "      <th>8</th>\n",
       "      <td>0.770162</td>\n",
       "      <td>0.881273</td>\n",
       "      <td>0.992384</td>\n",
       "    </tr>\n",
       "    <tr>\n",
       "      <th>9</th>\n",
       "      <td>-0.602023</td>\n",
       "      <td>-0.502023</td>\n",
       "      <td>-0.402023</td>\n",
       "    </tr>\n",
       "  </tbody>\n",
       "</table>\n",
       "</div>"
      ],
      "text/plain": [
       "         u1        u2        u3\n",
       "0  1.688437  2.688437  3.688437\n",
       "1 -3.448593 -2.948593 -2.448593\n",
       "2  2.919418  3.252751  3.586084\n",
       "3  1.295610  1.545610  1.795610\n",
       "4  1.530175  1.730175  1.930175\n",
       "5  1.017616  1.184283  1.350950\n",
       "6  1.080900  1.223757  1.366614\n",
       "7  2.433986  2.558986  2.683986\n",
       "8  0.770162  0.881273  0.992384\n",
       "9 -0.602023 -0.502023 -0.402023"
      ]
     },
     "execution_count": 67,
     "metadata": {},
     "output_type": "execute_result"
    }
   ],
   "source": [
    "u_s = []\n",
    "\n",
    "for i in range(N):\n",
    "    eps_fjk = np.random.normal(0, sigma, size=J * F[i])\n",
    "    eps_ijk = np.random.normal(0, sigma, size=K)\n",
    "    u_bar = 1/(i+1)*(v+eps_fjk.sum())\n",
    "\n",
    "    u1, u2, u3 = u_bar\n",
    "\n",
    "    u_s.append({\n",
    "        'u1': u1,\n",
    "        'u2': u2,\n",
    "        'u3': u3\n",
    "    })\n",
    "\n",
    "tab4 = pd.DataFrame(u_s)\n",
    "tab4"
   ]
  },
  {
   "cell_type": "code",
   "execution_count": 70,
   "metadata": {},
   "outputs": [
    {
     "data": {
      "text/plain": [
       "u1    2.919418\n",
       "u2    3.252751\n",
       "u3    3.688437\n",
       "dtype: float64"
      ]
     },
     "execution_count": 70,
     "metadata": {},
     "output_type": "execute_result"
    }
   ],
   "source": [
    "tab4.max()"
   ]
  },
  {
   "cell_type": "markdown",
   "metadata": {},
   "source": [
    "Chosen values will be: <br>\n",
    "$i\\in\\left\\{1,2\\dots,N\\right\\}, N=10$ <br>\n",
    "$F_i = i$<br>\n",
    "So there are 10 graduates. The first has 1 friend in each career, the second has 2 friends, ... the tenth has 10 friends."
   ]
  },
  {
   "cell_type": "markdown",
   "metadata": {},
   "source": [
    "**Question 2:** Simulate and visualize: For each type of graduate, $i$, the share of graduates choosing each career, the average subjective expected utility of the graduates, and the average ex post realized utility given their choice. <br>\n",
    "That is, calculate and visualize: <br>\n",
    "$$\n",
    "\\begin{align*}\n",
    "    \\frac{1}{K} \\sum_{k=1}^{K} \\mathbb{I}\\left\\{ j=j_i^{k*} \\right\\}  \\;\\forall j\\in\\left\\{1,2,\\dots,J\\right\\}\n",
    "\\end{align*}\n",
    "$$\n",
    "$$\n",
    "\\begin{align*}\n",
    "    \\frac{1}{K} \\sum_{k=1}^{K} \\tilde{u}^k_{ij=j_i^{k*}}\\left( F_{i}\\right)\n",
    "\\end{align*}\n",
    "$$\n",
    "And \n",
    "$$\n",
    "\\begin{align*}\n",
    "    \\frac{1}{K} \\sum_{k=1}^{K} u^k_{ij=j_i^{k*}} \n",
    "\\end{align*}\n",
    "$$\n",
    "For each graduate $i$."
   ]
  },
  {
   "cell_type": "code",
   "execution_count": null,
   "metadata": {},
   "outputs": [],
   "source": [
    "# Write your answer here "
   ]
  },
  {
   "cell_type": "markdown",
   "metadata": {},
   "source": [
    "After a year of working in their career, the graduates learn $u^k_{ij}$ for their chosen job $j_i^{k*}$ perfectly. <br>\n",
    "The can switch to one of the two remaining careers, for which they have the same prior as before, but it will now include a switching cost of $c$ which is known.\n",
    "Their new priors can be written as: \n",
    "$$\n",
    "\\tilde{u}^{k,2}_{ij}\\left( F_{i}\\right) = \\begin{cases}\n",
    "            \\tilde{u}^k_{ij}\\left( F_{i}\\right)-c & \\text{if } j \\neq j_i^{k*} \\\\\n",
    "            u_{ij=j_i^{k*}} & \\text{if } j = j_i^{k*}\n",
    "        \\end{cases}\n",
    "$$"
   ]
  },
  {
   "cell_type": "markdown",
   "metadata": {},
   "source": [
    "We will set $c=1$."
   ]
  },
  {
   "cell_type": "markdown",
   "metadata": {},
   "source": [
    "Their realized utility will be: <br>\n",
    "$$\n",
    "u^{k,2}_{ij}= \\begin{cases}\n",
    "            u_{ij}^k -c & \\text{if } j \\neq j_i^{k*} \\\\\n",
    "            u_{ij=j_i^{k*}} & \\text{if } j = j_i^{k*}\n",
    "        \\end{cases}\n",
    "$$"
   ]
  },
  {
   "cell_type": "markdown",
   "metadata": {},
   "source": [
    "**Question 3:** Following the same approach as in question 2, find the new optimal career choice for each $i$, $k$. Then for each $i$, calculate the average subjective expected utility from their new optimal career choice, and the ex post realized utility of that career. Also, for each $i$, calculate the share of graduates that chooses to switch careers, conditional on which career they chose in the first year. <br>"
   ]
  },
  {
   "cell_type": "code",
   "execution_count": null,
   "metadata": {},
   "outputs": [],
   "source": [
    "# write your answer here"
   ]
  },
  {
   "cell_type": "markdown",
   "metadata": {},
   "source": [
    "## 3. <a id='toc3_'></a>[Problem 3: Barycentric interpolation](#toc0_)"
   ]
  },
  {
   "cell_type": "markdown",
   "metadata": {},
   "source": [
    "**Problem:** We have a set of random points in the unit square,\n",
    "\n",
    "$$\n",
    "\\mathcal{X} = \\{(x_1,x_2)\\,|\\,x_1\\sim\\mathcal{U}(0,1),x_2\\sim\\mathcal{U}(0,1)\\}.\n",
    "$$\n",
    "\n",
    "For these points, we know the value of some function $f(x_1,x_2)$,\n",
    "\n",
    "$$\n",
    "\\mathcal{F} = \\{f(x_1,x_2) \\,|\\, (x_1,x_2) \\in \\mathcal{X}\\}.\n",
    "$$\n",
    "\n",
    "Now we want to approximate the value $f(y_1,y_2)$ for some  $y=(y_1,y_2)$, where $y_1\\sim\\mathcal{U}(0,1)$ and $y_2\\sim\\mathcal{U}(0,1)$.\n",
    "\n",
    "**Building block I**\n",
    "\n",
    "For an arbitrary triangle $ABC$ and a point $y$, define the so-called barycentric coordinates as:\n",
    "\n",
    "$$\n",
    "\\begin{align*}\n",
    "  r^{ABC}_1 &= \\frac{(B_2-C_2)(y_1-C_1) + (C_1-B_1)(y_2-C_2)}{(B_2-C_2)(A_1-C_1) + (C_1-B_1)(A_2-C_2)} \\\\\n",
    "  r^{ABC}_2 &= \\frac{(C_2-A_2)(y_1-C_1) + (A_1-C_1)(y_2-C_2)}{(B_2-C_2)(A_1-C_1) + (C_1-B_1)(A_2-C_2)} \\\\\n",
    "  r^{ABC}_3 &= 1 - r_1 - r_2.\n",
    "\\end{align*}\n",
    "$$\n",
    "\n",
    "If $r^{ABC}_1 \\in [0,1]$, $r^{ABC}_2 \\in [0,1]$, and $r^{ABC}_3 \\in [0,1]$, then the point is inside the triangle.\n",
    "\n",
    "We always have $y = r^{ABC}_1 A + r^{ABC}_2 B + r^{ABC}_3 C$.\n",
    "\n",
    "**Building block II**\n",
    "\n",
    "Define the following points:\n",
    "\n",
    "$$\n",
    "\\begin{align*}\n",
    "A&=\\arg\\min_{(x_{1},x_{2})\\in\\mathcal{X}}\\sqrt{\\left(x_{1}-y_{1}\\right)^{2}+\\left(x_{2}-y_{2}\\right)^{2}}\\text{ s.t. }x_{1}>y_{1}\\text{ and }x_{2}>y_{2}\\\\\n",
    "B&=\\arg\\min_{(x_{1},x_{2})\\in\\mathcal{X}}\\sqrt{\\left(x_{1}-y_{1}\\right)^{2}+\\left(x_{2}-y_{2}\\right)^{2}}\\text{ s.t. }x_{1}>y_{1}\\text{ and }x_{2}<y_{2}\\\\\n",
    "C&=\\arg\\min_{(x_{1},x_{2})\\in\\mathcal{X}}\\sqrt{\\left(x_{1}-y_{1}\\right)^{2}+\\left(x_{2}-y_{2}\\right)^{2}}\\text{ s.t. }x_{1}<y_{1}\\text{ and }x_{2}<y_{2}\\\\\n",
    "D&=\\arg\\min_{(x_{1},x_{2})\\in\\mathcal{X}}\\sqrt{\\left(x_{1}-y_{1}\\right)^{2}+\\left(x_{2}-y_{2}\\right)^{2}}\\text{ s.t. }x_{1}<y_{1}\\text{ and }x_{2}>y_{2}.\n",
    "\\end{align*}\n",
    "$$\n",
    "\n",
    "**Algorithm:**\n",
    "\n",
    "1. Compute $A$, $B$, $C$, and $D$. If not possible return `NaN`.\n",
    "1. If $y$ is inside the triangle $ABC$ return $r^{ABC}_1 f(A) + r^{ABC}_2 f(B) + r^{ABC}_3 f(C)$.\n",
    "1. If $y$ is inside the triangle $CDA$ return $r^{CDA}_1 f(C) + r^{CDA}_2 f(D) + r^{CDA}_3 f(A)$.\n",
    "1. Return `NaN`.\n",
    "\n"
   ]
  },
  {
   "cell_type": "markdown",
   "metadata": {},
   "source": [
    "**Sample:**"
   ]
  },
  {
   "cell_type": "code",
   "execution_count": null,
   "metadata": {},
   "outputs": [],
   "source": [
    "rng = np.random.default_rng(2024)\n",
    "\n",
    "X = rng.uniform(size=(50,2))\n",
    "y = rng.uniform(size=(2,))\n"
   ]
  },
  {
   "cell_type": "markdown",
   "metadata": {},
   "source": [
    "**Questions 1:** Find $A$, $B$, $C$ and $D$. Illustrate these together with $X$, $y$ and the triangles $ABC$ and $CDA$."
   ]
  },
  {
   "cell_type": "code",
   "execution_count": null,
   "metadata": {},
   "outputs": [],
   "source": [
    "# write your answer here"
   ]
  },
  {
   "cell_type": "markdown",
   "metadata": {},
   "source": [
    "**Question 2:** Compute the barycentric coordinates of the point $y$ with respect to the triangles $ABC$ and $CDA$. Which triangle is $y$ located inside?"
   ]
  },
  {
   "cell_type": "code",
   "execution_count": null,
   "metadata": {},
   "outputs": [],
   "source": [
    "# write your answer here"
   ]
  },
  {
   "cell_type": "markdown",
   "metadata": {},
   "source": [
    "Now consider the function:\n",
    "$$\n",
    "f(x_1,x_2) = x_1 \\cdot x_2\n",
    "$$"
   ]
  },
  {
   "cell_type": "code",
   "execution_count": null,
   "metadata": {},
   "outputs": [],
   "source": [
    "f = lambda x: x[0]*x[1]\n",
    "F = np.array([f(x) for x in X])"
   ]
  },
  {
   "cell_type": "markdown",
   "metadata": {},
   "source": [
    "**Question 3:** Compute the approximation of $f(y)$ using the full algorithm. Compare with the true value."
   ]
  },
  {
   "cell_type": "code",
   "execution_count": null,
   "metadata": {},
   "outputs": [],
   "source": [
    "# write your answer here"
   ]
  },
  {
   "cell_type": "markdown",
   "metadata": {},
   "source": [
    "**Question 4:** Repeat question 3 for all points in the set $Y$."
   ]
  },
  {
   "cell_type": "code",
   "execution_count": null,
   "metadata": {},
   "outputs": [],
   "source": [
    "Y = [(0.2,0.2),(0.8,0.2),(0.8,0.8),(0.8,0.2),(0.5,0.5)]"
   ]
  },
  {
   "cell_type": "code",
   "execution_count": null,
   "metadata": {},
   "outputs": [],
   "source": [
    "# write your answer here"
   ]
  }
 ],
 "metadata": {
  "kernelspec": {
   "display_name": "base",
   "language": "python",
   "name": "python3"
  },
  "language_info": {
   "codemirror_mode": {
    "name": "ipython",
    "version": 3
   },
   "file_extension": ".py",
   "mimetype": "text/x-python",
   "name": "python",
   "nbconvert_exporter": "python",
   "pygments_lexer": "ipython3",
   "version": "3.12.3"
  }
 },
 "nbformat": 4,
 "nbformat_minor": 2
}
