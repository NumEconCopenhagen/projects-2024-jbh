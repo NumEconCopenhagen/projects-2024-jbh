{
 "cells": [
  {
   "cell_type": "markdown",
   "metadata": {},
   "source": [
    "**Table of contents**<a id='toc0_'></a>    \n",
    "- 1. [Problem 1: Production economy and CO2 taxation](#toc1_)    \n",
    "- 2. [Problem 2: Career choice model](#toc2_)    \n",
    "- 3. [Problem 3: Barycentric interpolation](#toc3_)    \n",
    "\n",
    "<!-- vscode-jupyter-toc-config\n",
    "\tnumbering=true\n",
    "\tanchor=true\n",
    "\tflat=false\n",
    "\tminLevel=2\n",
    "\tmaxLevel=6\n",
    "\t/vscode-jupyter-toc-config -->\n",
    "<!-- THIS CELL WILL BE REPLACED ON TOC UPDATE. DO NOT WRITE YOUR TEXT IN THIS CELL -->"
   ]
  },
  {
   "cell_type": "code",
   "execution_count": 1,
   "metadata": {},
   "outputs": [],
   "source": [
    "# Write your code here\n",
    "import numpy as np\n",
    "import pandas as pd\n",
    "import matplotlib.pyplot as plt\n",
    "from scipy import optimize\n",
    "\n",
    "np.random.seed(404)"
   ]
  },
  {
   "cell_type": "markdown",
   "metadata": {},
   "source": [
    "## 1. <a id='toc1_'></a>[Problem 1: Production economy and CO2 taxation](#toc0_)"
   ]
  },
  {
   "cell_type": "markdown",
   "metadata": {},
   "source": [
    "Consider a production economy with two firms indexed by $j \\in \\{1,2\\}$. Each produce its own good. They solve\n",
    "\n",
    "$$\n",
    "\\begin{align*}\n",
    "\\max_{y_{j}}\\pi_{j}&=p_{j}y_{j}-w_{j}\\ell_{j}\\\\\\text{s.t.}\\;&y_{j}=A\\ell_{j}^{\\gamma}.\n",
    "\\end{align*}\n",
    "$$\n",
    "\n",
    "Optimal firm behavior is\n",
    "\n",
    "$$\n",
    "\\begin{align*}\n",
    "\\ell_{j}^{\\star}(w,p_{j})&=\\left(\\frac{p_{j}A\\gamma}{w}\\right)^{\\frac{1}{1-\\gamma}} \\\\\n",
    "y_{j}^{\\star}(w,p_{j})&=A\\left(\\ell_{j}^{\\star}(w,p_{j})\\right)^{\\gamma}\n",
    "\\end{align*}\n",
    "$$\n",
    "\n",
    "The implied profits are\n",
    "\n",
    "$$\n",
    "\\pi_{j}^*(w,p_{j})=\\frac{1-\\gamma}{\\gamma}w\\cdot\\left(\\frac{p_{j}A\\gamma}{w}\\right)^{\\frac{1}{1-\\gamma}}\n",
    "$$\n",
    "\n",
    "A single consumer supplies labor, and consumes the goods the firms produce. She also recieves the implied profits of the firm.<br>\n",
    "She solves:\n",
    "\n",
    "$$\n",
    "\\begin{align*}\n",
    "U(p_1,p_2,w,\\tau,T) = \\max_{c_{1},c_{2},\\ell} & \\log(c_{1}^{\\alpha}c_{2}^{1-\\alpha})-\\nu\\frac{\\ell^{1+\\epsilon}}{1+\\epsilon} \\\\\n",
    "\\text{s.t.}\\,\\,\\,&p_{1}c_{1}+(p_{2}+\\tau)c_{2}=w\\ell+T+\\pi_{1}^*(w,p_{1})+\\pi_{2}^*(w,p_{2})\n",
    "\\end{align*}\n",
    "$$\n",
    "\n",
    "where $\\tau$ is a tax and $T$ is lump-sum transfer. <br>\n",
    "For a given $\\ell$, it can be shown that optimal behavior is\n",
    "\n",
    "$$\n",
    "\\begin{align*}\n",
    "c_{1}(\\ell)&=\\alpha\\frac{w\\ell+T+\\pi_{1}^*(w,p_{1})+\\pi_{2}^*(w,p_{2})}{p_{1}} \\\\\n",
    "c_{2}(\\ell)&=(1-\\alpha)\\frac{w\\ell+T+\\pi_{1}^*(w,p_{1})+\\pi_{2}^*(w,p_{2})}{p_{2}+\\tau} \\\\\n",
    "\\end{align*}\n",
    "$$\n",
    "Such that optimal behavior is:\n",
    "$$\n",
    "\\ell^* = \\underset{\\ell}{\\arg\\max} \\log(\\left(c_{1}(\\ell)\\right)^{\\alpha}\\cdot \\left(c_{2}(\\ell)\\right)^{1-\\alpha})-\\nu\\frac{\\ell^{1+\\epsilon}}{1+\\epsilon} \n",
    "$$\n",
    "With optimal consumption:\n",
    "$$\n",
    "\\begin{align*}\n",
    "c_1^*=c_{1}(\\ell^*) \\\\\n",
    "c_2^*=c_{2}(\\ell^*)\\\\\n",
    "\\end{align*}\n",
    "$$\n",
    "\n",
    "\n",
    "The government chooses $\\tau$ and balances its budget so $T=\\tau c_2^*$. We initially set $\\tau,T=0$.\n",
    "\n",
    "Market clearing requires:\n",
    "\n",
    "1. Labor market: $\\ell^* = \\ell_1^* + \\ell_2^*$\n",
    "1. Good market 1: $c_1^* = y_1^*$\n",
    "1. Good market 2: $c_2^* = y_2^*$\n"
   ]
  },
  {
   "cell_type": "markdown",
   "metadata": {},
   "source": [
    "**Question 1:** Check market clearing conditions for $p_1$ in `linspace(0.1,2.0,10)` and $p_2$ in `linspace(0.1,2.0,10)`. We choose $w=1$ as numeraire."
   ]
  },
  {
   "cell_type": "code",
   "execution_count": 2,
   "metadata": {},
   "outputs": [],
   "source": [
    "# firms\n",
    "A = 1.0\n",
    "gamma = 0.5\n",
    "\n",
    "# households\n",
    "alpha = 0.3\n",
    "nu = 1.0\n",
    "epsilon = 2.0\n",
    "\n",
    "# government\n",
    "tau = 0.0\n",
    "T = 0.0\n",
    "\n",
    "# Question 3\n",
    "kappa = 0.1"
   ]
  },
  {
   "cell_type": "code",
   "execution_count": 3,
   "metadata": {},
   "outputs": [],
   "source": [
    "def l_star(p):\n",
    "    return (p*A*gamma)**(1/(1-gamma))\n",
    "def y_star(p):\n",
    "    return A*(l_star(p))**(gamma)\n",
    "def pi_star(p):\n",
    "    return ((1-gamma)/(gamma))*(l_star(p))\n",
    "\n",
    "def utility(c1, c2, L):\n",
    "    return np.log(c1**alpha*c2**(1-alpha))-nu*(L)**(1+epsilon)/(1+epsilon)\n",
    "\n",
    "# Consumer's optimal behavior for a given labor supply\n",
    "def c1_star(L, p1, p2, T):        \n",
    "        return alpha * (L + T + pi_star(p1) + pi_star(p2)) / p1\n",
    "\n",
    "def c2_star(L, p1, p2, T, tau):\n",
    "        return (1 - alpha) * (L + T + pi_star(p1) + pi_star(p2)) / (p2 + tau)\n",
    "\n",
    "def obj(L, p1, p2, T, tau):\n",
    "      return np.log((c1_star(L, p1, p2, T))**(alpha) * (c2_star(L, p1, p2, T, tau))**(1-alpha)) - nu * (L**(1+epsilon))/(1+epsilon)"
   ]
  },
  {
   "cell_type": "code",
   "execution_count": 4,
   "metadata": {},
   "outputs": [
    {
     "data": {
      "text/html": [
       "<div>\n",
       "<style scoped>\n",
       "    .dataframe tbody tr th:only-of-type {\n",
       "        vertical-align: middle;\n",
       "    }\n",
       "\n",
       "    .dataframe tbody tr th {\n",
       "        vertical-align: top;\n",
       "    }\n",
       "\n",
       "    .dataframe thead th {\n",
       "        text-align: right;\n",
       "    }\n",
       "</style>\n",
       "<table border=\"1\" class=\"dataframe\">\n",
       "  <thead>\n",
       "    <tr style=\"text-align: right;\">\n",
       "      <th></th>\n",
       "      <th>p1</th>\n",
       "      <th>p2</th>\n",
       "      <th>goods market clearing</th>\n",
       "      <th>utility</th>\n",
       "      <th>labor</th>\n",
       "      <th>labor market clearing</th>\n",
       "      <th>excess goods</th>\n",
       "      <th>excess labor</th>\n",
       "    </tr>\n",
       "  </thead>\n",
       "  <tbody>\n",
       "    <tr>\n",
       "      <th>0</th>\n",
       "      <td>0.1</td>\n",
       "      <td>0.10</td>\n",
       "      <td>(False, False)</td>\n",
       "      <td>-1.363379</td>\n",
       "      <td>0.998337</td>\n",
       "      <td>False</td>\n",
       "      <td>(2.96, 6.97)</td>\n",
       "      <td>0.99</td>\n",
       "    </tr>\n",
       "    <tr>\n",
       "      <th>1</th>\n",
       "      <td>0.1</td>\n",
       "      <td>0.31</td>\n",
       "      <td>(False, False)</td>\n",
       "      <td>-0.590364</td>\n",
       "      <td>0.991180</td>\n",
       "      <td>False</td>\n",
       "      <td>(3.0, 2.13)</td>\n",
       "      <td>0.96</td>\n",
       "    </tr>\n",
       "    <tr>\n",
       "      <th>2</th>\n",
       "      <td>0.1</td>\n",
       "      <td>0.52</td>\n",
       "      <td>(False, False)</td>\n",
       "      <td>-0.270394</td>\n",
       "      <td>0.976987</td>\n",
       "      <td>False</td>\n",
       "      <td>(3.09, 1.14)</td>\n",
       "      <td>0.91</td>\n",
       "    </tr>\n",
       "    <tr>\n",
       "      <th>3</th>\n",
       "      <td>0.1</td>\n",
       "      <td>0.73</td>\n",
       "      <td>(False, False)</td>\n",
       "      <td>-0.094654</td>\n",
       "      <td>0.956373</td>\n",
       "      <td>False</td>\n",
       "      <td>(3.23, 0.68)</td>\n",
       "      <td>0.82</td>\n",
       "    </tr>\n",
       "    <tr>\n",
       "      <th>4</th>\n",
       "      <td>0.1</td>\n",
       "      <td>0.94</td>\n",
       "      <td>(False, False)</td>\n",
       "      <td>0.003669</td>\n",
       "      <td>0.930205</td>\n",
       "      <td>False</td>\n",
       "      <td>(3.42, 0.38)</td>\n",
       "      <td>0.70</td>\n",
       "    </tr>\n",
       "    <tr>\n",
       "      <th>...</th>\n",
       "      <td>...</td>\n",
       "      <td>...</td>\n",
       "      <td>...</td>\n",
       "      <td>...</td>\n",
       "      <td>...</td>\n",
       "      <td>...</td>\n",
       "      <td>...</td>\n",
       "      <td>...</td>\n",
       "    </tr>\n",
       "    <tr>\n",
       "      <th>95</th>\n",
       "      <td>2.0</td>\n",
       "      <td>1.16</td>\n",
       "      <td>(False, False)</td>\n",
       "      <td>0.324428</td>\n",
       "      <td>0.701025</td>\n",
       "      <td>False</td>\n",
       "      <td>(0.69, 0.65)</td>\n",
       "      <td>0.63</td>\n",
       "    </tr>\n",
       "    <tr>\n",
       "      <th>96</th>\n",
       "      <td>2.0</td>\n",
       "      <td>1.37</td>\n",
       "      <td>(False, False)</td>\n",
       "      <td>0.378232</td>\n",
       "      <td>0.682140</td>\n",
       "      <td>False</td>\n",
       "      <td>(0.68, 0.42)</td>\n",
       "      <td>0.78</td>\n",
       "    </tr>\n",
       "    <tr>\n",
       "      <th>97</th>\n",
       "      <td>2.0</td>\n",
       "      <td>1.58</td>\n",
       "      <td>(False, False)</td>\n",
       "      <td>0.408647</td>\n",
       "      <td>0.661682</td>\n",
       "      <td>False</td>\n",
       "      <td>(0.66, 0.22)</td>\n",
       "      <td>0.96</td>\n",
       "    </tr>\n",
       "    <tr>\n",
       "      <th>98</th>\n",
       "      <td>2.0</td>\n",
       "      <td>1.79</td>\n",
       "      <td>(False, False)</td>\n",
       "      <td>0.421295</td>\n",
       "      <td>0.640165</td>\n",
       "      <td>False</td>\n",
       "      <td>(0.63, 0.06)</td>\n",
       "      <td>1.16</td>\n",
       "    </tr>\n",
       "    <tr>\n",
       "      <th>99</th>\n",
       "      <td>2.0</td>\n",
       "      <td>2.00</td>\n",
       "      <td>(False, False)</td>\n",
       "      <td>0.420277</td>\n",
       "      <td>0.618030</td>\n",
       "      <td>False</td>\n",
       "      <td>(0.61, 0.08)</td>\n",
       "      <td>1.38</td>\n",
       "    </tr>\n",
       "  </tbody>\n",
       "</table>\n",
       "<p>100 rows × 8 columns</p>\n",
       "</div>"
      ],
      "text/plain": [
       "     p1    p2 goods market clearing   utility     labor  \\\n",
       "0   0.1  0.10        (False, False) -1.363379  0.998337   \n",
       "1   0.1  0.31        (False, False) -0.590364  0.991180   \n",
       "2   0.1  0.52        (False, False) -0.270394  0.976987   \n",
       "3   0.1  0.73        (False, False) -0.094654  0.956373   \n",
       "4   0.1  0.94        (False, False)  0.003669  0.930205   \n",
       "..  ...   ...                   ...       ...       ...   \n",
       "95  2.0  1.16        (False, False)  0.324428  0.701025   \n",
       "96  2.0  1.37        (False, False)  0.378232  0.682140   \n",
       "97  2.0  1.58        (False, False)  0.408647  0.661682   \n",
       "98  2.0  1.79        (False, False)  0.421295  0.640165   \n",
       "99  2.0  2.00        (False, False)  0.420277  0.618030   \n",
       "\n",
       "    labor market clearing  excess goods  excess labor  \n",
       "0                   False  (2.96, 6.97)          0.99  \n",
       "1                   False   (3.0, 2.13)          0.96  \n",
       "2                   False  (3.09, 1.14)          0.91  \n",
       "3                   False  (3.23, 0.68)          0.82  \n",
       "4                   False  (3.42, 0.38)          0.70  \n",
       "..                    ...           ...           ...  \n",
       "95                  False  (0.69, 0.65)          0.63  \n",
       "96                  False  (0.68, 0.42)          0.78  \n",
       "97                  False  (0.66, 0.22)          0.96  \n",
       "98                  False  (0.63, 0.06)          1.16  \n",
       "99                  False  (0.61, 0.08)          1.38  \n",
       "\n",
       "[100 rows x 8 columns]"
      ]
     },
     "execution_count": 4,
     "metadata": {},
     "output_type": "execute_result"
    }
   ],
   "source": [
    "P = (np.linspace(0.1, 2, 10), np.linspace(0.1, 2, 10))\n",
    "P1 = np.linspace(0.1, 2, 10)\n",
    "P2 = np.linspace(0.1, 2, 10)\n",
    "\n",
    "res = []\n",
    "\n",
    "for p1 in P1:\n",
    "    for p2 in P2:\n",
    "        l_star1 = l_star(p1)\n",
    "        l_star2 = l_star(p2)\n",
    "        y_star1 = y_star(p1)\n",
    "        y_star2 = y_star(p2) \n",
    "\n",
    "        pi_star1 = pi_star(p1)\n",
    "        pi_star2 = pi_star(p2)\n",
    "\n",
    "        res_opt = optimize.minimize(lambda L: -obj(L, p1, p2, T, tau), x0=0, method='BFGS')\n",
    "\n",
    "        L_star = res_opt.x[0]\n",
    "        u_star = res_opt.fun\n",
    "\n",
    "        # Calculate optimal consumption\n",
    "        c1_star_opt = c1_star(L_star, p1, p2, T)\n",
    "        c2_star_opt = c2_star(L_star, p1, p2, T, tau)\n",
    "\n",
    "        # Market clears?\n",
    "        cond1 = np.isclose(L_star, l_star1 + l_star2)\n",
    "        cond2 = np.isclose(c1_star_opt, y_star1)\n",
    "        cond3 = np.isclose(c2_star_opt, y_star2)\n",
    "\n",
    "        excess_good1 = abs(c1_star_opt - y_star1)\n",
    "        excess_good2 = abs(c2_star_opt - y_star2)\n",
    "        excess_labor = abs(L_star - l_star1 - l_star2)\n",
    "\n",
    "        res.append({\n",
    "            'p1': p1.round(2),\n",
    "            'p2': p2.round(2),\n",
    "            'goods market clearing': (cond2, cond3),\n",
    "            'utility': u_star,\n",
    "            'labor': L_star,\n",
    "            'labor market clearing': cond1,\n",
    "            'excess goods': (excess_good1.round(2), excess_good2.round(2)),\n",
    "            'excess labor': excess_labor.round(2)\n",
    "        })\n",
    "\n",
    "import pandas as pd\n",
    "\n",
    "tab1 = pd.DataFrame(res)\n",
    "tab1"
   ]
  },
  {
   "cell_type": "code",
   "execution_count": 5,
   "metadata": {},
   "outputs": [
    {
     "data": {
      "text/html": [
       "<div>\n",
       "<style scoped>\n",
       "    .dataframe tbody tr th:only-of-type {\n",
       "        vertical-align: middle;\n",
       "    }\n",
       "\n",
       "    .dataframe tbody tr th {\n",
       "        vertical-align: top;\n",
       "    }\n",
       "\n",
       "    .dataframe thead th {\n",
       "        text-align: right;\n",
       "    }\n",
       "</style>\n",
       "<table border=\"1\" class=\"dataframe\">\n",
       "  <thead>\n",
       "    <tr style=\"text-align: right;\">\n",
       "      <th></th>\n",
       "      <th>p1</th>\n",
       "      <th>p2</th>\n",
       "      <th>goods market clearing</th>\n",
       "      <th>utility</th>\n",
       "      <th>labor</th>\n",
       "      <th>labor market clearing</th>\n",
       "      <th>excess goods</th>\n",
       "      <th>excess labor</th>\n",
       "    </tr>\n",
       "  </thead>\n",
       "  <tbody>\n",
       "    <tr>\n",
       "      <th>46</th>\n",
       "      <td>0.94</td>\n",
       "      <td>1.37</td>\n",
       "      <td>(False, False)</td>\n",
       "      <td>0.584075</td>\n",
       "      <td>0.815123</td>\n",
       "      <td>False</td>\n",
       "      <td>(0.01, 0.09)</td>\n",
       "      <td>0.13</td>\n",
       "    </tr>\n",
       "  </tbody>\n",
       "</table>\n",
       "</div>"
      ],
      "text/plain": [
       "      p1    p2 goods market clearing   utility     labor  \\\n",
       "46  0.94  1.37        (False, False)  0.584075  0.815123   \n",
       "\n",
       "    labor market clearing  excess goods  excess labor  \n",
       "46                  False  (0.01, 0.09)          0.13  "
      ]
     },
     "execution_count": 5,
     "metadata": {},
     "output_type": "execute_result"
    }
   ],
   "source": [
    "idx_goods = tab1['excess goods'].min()\n",
    "tab1[tab1['excess goods']==idx_goods]"
   ]
  },
  {
   "cell_type": "markdown",
   "metadata": {},
   "source": [
    "**Question 2:** Find the equilibrium prices $p_1$ and $p_2$.<br>\n",
    "*Hint: you can use Walras' law to only check 2 of the market clearings*"
   ]
  },
  {
   "cell_type": "code",
   "execution_count": 6,
   "metadata": {},
   "outputs": [
    {
     "name": "stdout",
     "output_type": "stream",
     "text": [
      "Prices (p1, p2)=(0.94, 1.37) has the lowest market clearing error and is thus the equilibrium prices.\n"
     ]
    }
   ],
   "source": [
    "# For which p1, p2 has the lowest market clearing error?\n",
    "idx_goods = tab1['excess goods'].min()\n",
    "p1_star, p2_star = tab1[tab1['excess goods']==idx_goods].loc[:, ['p1', 'p2']].values[0]\n",
    "L_star_opt = tab1[tab1['excess goods']==idx_goods].loc[:, ['labor']].values[0]\n",
    "\n",
    "print(f'Prices (p1, p2)=({p1_star:.2f}, {p2_star:.2f}) has the lowest market clearing error and is thus the equilibrium prices.')"
   ]
  },
  {
   "cell_type": "markdown",
   "metadata": {},
   "source": [
    "Assume the government care about the social welfare function:\n",
    "\n",
    "$$\n",
    "SWF = U - \\kappa y_2^*\n",
    "$$"
   ]
  },
  {
   "cell_type": "markdown",
   "metadata": {},
   "source": [
    "Here $\\kappa$ measures the social cost of carbon emitted by the production of $y_2$ in equilibrium."
   ]
  },
  {
   "cell_type": "markdown",
   "metadata": {},
   "source": [
    "**Question 3:** What values of $\\tau$ and (implied) $T$ should the government choose to maximize $SWF$?"
   ]
  },
  {
   "cell_type": "code",
   "execution_count": 7,
   "metadata": {},
   "outputs": [],
   "source": [
    "def obj_gov(L, p1, p2, T, tau):\n",
    "      return np.log((c1_star(L, p1, p2, T))**(alpha) * (c2_star(L, p1, p2, T, tau))**(1-alpha)) - nu * (L**(1+epsilon))/(1+epsilon) - kappa*y_star(p2)"
   ]
  },
  {
   "cell_type": "code",
   "execution_count": 8,
   "metadata": {},
   "outputs": [],
   "source": [
    "y_star2_opt = y_star(p2_star)"
   ]
  },
  {
   "cell_type": "code",
   "execution_count": 9,
   "metadata": {},
   "outputs": [],
   "source": [
    "def obj(L, p1, p2, T, tau):\n",
    "      return np.log((c1_star(L, p1, p2, T))**(alpha) * (c2_star(L, p1, p2, T, tau))**(1-alpha)) - nu * (L**(1+epsilon))/(1+epsilon)"
   ]
  },
  {
   "cell_type": "code",
   "execution_count": 10,
   "metadata": {},
   "outputs": [
    {
     "data": {
      "text/plain": [
       "0.0"
      ]
     },
     "execution_count": 10,
     "metadata": {},
     "output_type": "execute_result"
    }
   ],
   "source": [
    "tau\n",
    "T"
   ]
  },
  {
   "cell_type": "code",
   "execution_count": 11,
   "metadata": {},
   "outputs": [
    {
     "data": {
      "text/html": [
       "<div>\n",
       "<style scoped>\n",
       "    .dataframe tbody tr th:only-of-type {\n",
       "        vertical-align: middle;\n",
       "    }\n",
       "\n",
       "    .dataframe tbody tr th {\n",
       "        vertical-align: top;\n",
       "    }\n",
       "\n",
       "    .dataframe thead th {\n",
       "        text-align: right;\n",
       "    }\n",
       "</style>\n",
       "<table border=\"1\" class=\"dataframe\">\n",
       "  <thead>\n",
       "    <tr style=\"text-align: right;\">\n",
       "      <th></th>\n",
       "      <th>p1</th>\n",
       "      <th>p2</th>\n",
       "      <th>goods market clearing</th>\n",
       "      <th>utility</th>\n",
       "      <th>labor</th>\n",
       "      <th>labor market clearing</th>\n",
       "      <th>excess goods</th>\n",
       "      <th>excess labor</th>\n",
       "    </tr>\n",
       "  </thead>\n",
       "  <tbody>\n",
       "    <tr>\n",
       "      <th>0</th>\n",
       "      <td>0.1</td>\n",
       "      <td>0.10</td>\n",
       "      <td>(False, False)</td>\n",
       "      <td>-1.363379</td>\n",
       "      <td>0.998337</td>\n",
       "      <td>False</td>\n",
       "      <td>(2.96, 6.97)</td>\n",
       "      <td>0.99</td>\n",
       "    </tr>\n",
       "    <tr>\n",
       "      <th>1</th>\n",
       "      <td>0.1</td>\n",
       "      <td>0.31</td>\n",
       "      <td>(False, False)</td>\n",
       "      <td>-0.590364</td>\n",
       "      <td>0.991180</td>\n",
       "      <td>False</td>\n",
       "      <td>(3.0, 2.13)</td>\n",
       "      <td>0.96</td>\n",
       "    </tr>\n",
       "    <tr>\n",
       "      <th>2</th>\n",
       "      <td>0.1</td>\n",
       "      <td>0.52</td>\n",
       "      <td>(False, False)</td>\n",
       "      <td>-0.270394</td>\n",
       "      <td>0.976987</td>\n",
       "      <td>False</td>\n",
       "      <td>(3.09, 1.14)</td>\n",
       "      <td>0.91</td>\n",
       "    </tr>\n",
       "    <tr>\n",
       "      <th>3</th>\n",
       "      <td>0.1</td>\n",
       "      <td>0.73</td>\n",
       "      <td>(False, False)</td>\n",
       "      <td>-0.094654</td>\n",
       "      <td>0.956373</td>\n",
       "      <td>False</td>\n",
       "      <td>(3.23, 0.68)</td>\n",
       "      <td>0.82</td>\n",
       "    </tr>\n",
       "    <tr>\n",
       "      <th>4</th>\n",
       "      <td>0.1</td>\n",
       "      <td>0.94</td>\n",
       "      <td>(False, False)</td>\n",
       "      <td>0.003669</td>\n",
       "      <td>0.930205</td>\n",
       "      <td>False</td>\n",
       "      <td>(3.42, 0.38)</td>\n",
       "      <td>0.70</td>\n",
       "    </tr>\n",
       "    <tr>\n",
       "      <th>...</th>\n",
       "      <td>...</td>\n",
       "      <td>...</td>\n",
       "      <td>...</td>\n",
       "      <td>...</td>\n",
       "      <td>...</td>\n",
       "      <td>...</td>\n",
       "      <td>...</td>\n",
       "      <td>...</td>\n",
       "    </tr>\n",
       "    <tr>\n",
       "      <th>195</th>\n",
       "      <td>2.0</td>\n",
       "      <td>1.16</td>\n",
       "      <td>(False, False)</td>\n",
       "      <td>0.370378</td>\n",
       "      <td>0.641099</td>\n",
       "      <td>False</td>\n",
       "      <td>(0.64, 0.45)</td>\n",
       "      <td>0.69</td>\n",
       "    </tr>\n",
       "    <tr>\n",
       "      <th>196</th>\n",
       "      <td>2.0</td>\n",
       "      <td>1.37</td>\n",
       "      <td>(False, False)</td>\n",
       "      <td>0.400963</td>\n",
       "      <td>0.626080</td>\n",
       "      <td>False</td>\n",
       "      <td>(0.62, 0.27)</td>\n",
       "      <td>0.84</td>\n",
       "    </tr>\n",
       "    <tr>\n",
       "      <th>197</th>\n",
       "      <td>2.0</td>\n",
       "      <td>1.58</td>\n",
       "      <td>(False, False)</td>\n",
       "      <td>0.416651</td>\n",
       "      <td>0.609682</td>\n",
       "      <td>False</td>\n",
       "      <td>(0.6, 0.12)</td>\n",
       "      <td>1.01</td>\n",
       "    </tr>\n",
       "    <tr>\n",
       "      <th>198</th>\n",
       "      <td>2.0</td>\n",
       "      <td>1.79</td>\n",
       "      <td>(False, False)</td>\n",
       "      <td>0.420229</td>\n",
       "      <td>0.592298</td>\n",
       "      <td>False</td>\n",
       "      <td>(0.57, 0.02)</td>\n",
       "      <td>1.21</td>\n",
       "    </tr>\n",
       "    <tr>\n",
       "      <th>199</th>\n",
       "      <td>2.0</td>\n",
       "      <td>2.00</td>\n",
       "      <td>(False, False)</td>\n",
       "      <td>0.413978</td>\n",
       "      <td>0.574255</td>\n",
       "      <td>False</td>\n",
       "      <td>(0.55, 0.15)</td>\n",
       "      <td>1.43</td>\n",
       "    </tr>\n",
       "  </tbody>\n",
       "</table>\n",
       "<p>200 rows × 8 columns</p>\n",
       "</div>"
      ],
      "text/plain": [
       "      p1    p2 goods market clearing   utility     labor  \\\n",
       "0    0.1  0.10        (False, False) -1.363379  0.998337   \n",
       "1    0.1  0.31        (False, False) -0.590364  0.991180   \n",
       "2    0.1  0.52        (False, False) -0.270394  0.976987   \n",
       "3    0.1  0.73        (False, False) -0.094654  0.956373   \n",
       "4    0.1  0.94        (False, False)  0.003669  0.930205   \n",
       "..   ...   ...                   ...       ...       ...   \n",
       "195  2.0  1.16        (False, False)  0.370378  0.641099   \n",
       "196  2.0  1.37        (False, False)  0.400963  0.626080   \n",
       "197  2.0  1.58        (False, False)  0.416651  0.609682   \n",
       "198  2.0  1.79        (False, False)  0.420229  0.592298   \n",
       "199  2.0  2.00        (False, False)  0.413978  0.574255   \n",
       "\n",
       "     labor market clearing  excess goods  excess labor  \n",
       "0                    False  (2.96, 6.97)          0.99  \n",
       "1                    False   (3.0, 2.13)          0.96  \n",
       "2                    False  (3.09, 1.14)          0.91  \n",
       "3                    False  (3.23, 0.68)          0.82  \n",
       "4                    False  (3.42, 0.38)          0.70  \n",
       "..                     ...           ...           ...  \n",
       "195                  False  (0.64, 0.45)          0.69  \n",
       "196                  False  (0.62, 0.27)          0.84  \n",
       "197                  False   (0.6, 0.12)          1.01  \n",
       "198                  False  (0.57, 0.02)          1.21  \n",
       "199                  False  (0.55, 0.15)          1.43  \n",
       "\n",
       "[200 rows x 8 columns]"
      ]
     },
     "execution_count": 11,
     "metadata": {},
     "output_type": "execute_result"
    }
   ],
   "source": [
    "tau = 0.5\n",
    "T = tau*c2_star_opt\n",
    "for p1 in P1:\n",
    "    for p2 in P2:\n",
    "        l_star1 = l_star(p1)\n",
    "        l_star2 = l_star(p2)\n",
    "        y_star1 = y_star(p1)\n",
    "        y_star2 = y_star(p2) \n",
    "\n",
    "        pi_star1 = pi_star(p1)\n",
    "        pi_star2 = pi_star(p2)\n",
    "\n",
    "        res_opt = optimize.minimize(lambda L: -obj(L, p1, p2, T, tau), x0=0, method='BFGS')\n",
    "\n",
    "        L_star = res_opt.x[0]\n",
    "        u_star = res_opt.fun\n",
    "\n",
    "        # Calculate optimal consumption\n",
    "        c1_star_opt = c1_star(L_star, p1, p2, T)\n",
    "        c2_star_opt = c2_star(L_star, p1, p2, T, tau)\n",
    "\n",
    "        # Market clears?\n",
    "        cond1 = np.isclose(L_star, l_star1 + l_star2)\n",
    "        cond2 = np.isclose(c1_star_opt, y_star1)\n",
    "        cond3 = np.isclose(c2_star_opt, y_star2)\n",
    "\n",
    "        excess_good1 = abs(c1_star_opt - y_star1)\n",
    "        excess_good2 = abs(c2_star_opt - y_star2)\n",
    "        excess_labor = abs(L_star - l_star1 - l_star2)\n",
    "\n",
    "        res.append({\n",
    "            'p1': p1.round(2),\n",
    "            'p2': p2.round(2),\n",
    "            'goods market clearing': (cond2, cond3),\n",
    "            'utility': u_star,\n",
    "            'labor': L_star,\n",
    "            'labor market clearing': cond1,\n",
    "            'excess goods': (excess_good1.round(2), excess_good2.round(2)),\n",
    "            'excess labor': excess_labor.round(2)\n",
    "        })\n",
    "\n",
    "import pandas as pd\n",
    "\n",
    "tab2 = pd.DataFrame(res)\n",
    "tab2"
   ]
  },
  {
   "cell_type": "code",
   "execution_count": 12,
   "metadata": {},
   "outputs": [
    {
     "data": {
      "text/plain": [
       "array([-0.58424103])"
      ]
     },
     "execution_count": 12,
     "metadata": {},
     "output_type": "execute_result"
    }
   ],
   "source": [
    "obj(L_star_opt, p1_star, p2_star, 0, 0)"
   ]
  },
  {
   "cell_type": "code",
   "execution_count": 13,
   "metadata": {},
   "outputs": [
    {
     "data": {
      "text/plain": [
       "0.45486150590681407"
      ]
     },
     "execution_count": 13,
     "metadata": {},
     "output_type": "execute_result"
    }
   ],
   "source": [
    "c1_star_opt"
   ]
  },
  {
   "cell_type": "code",
   "execution_count": 14,
   "metadata": {},
   "outputs": [
    {
     "data": {
      "text/plain": [
       "0.849074811026053"
      ]
     },
     "execution_count": 14,
     "metadata": {},
     "output_type": "execute_result"
    }
   ],
   "source": [
    "c2_star_opt"
   ]
  },
  {
   "cell_type": "code",
   "execution_count": 15,
   "metadata": {},
   "outputs": [
    {
     "data": {
      "text/plain": [
       "array([-0.59988352])"
      ]
     },
     "execution_count": 15,
     "metadata": {},
     "output_type": "execute_result"
    }
   ],
   "source": [
    "SWF = utility(c1_star_opt, c2_star_opt, L_star_opt) - kappa*y_star2_opt\n",
    "SWF"
   ]
  },
  {
   "cell_type": "code",
   "execution_count": 16,
   "metadata": {},
   "outputs": [],
   "source": [
    "def SWF(c1_star_opt, c2_star_opt, L_star_opt, tau):\n",
    "\n",
    "    T = tau*c2_star_opt\n",
    "\n",
    "    c1 = c1_star(L_star_opt, p1,  p2, T)\n",
    "    c2 = c2_star(L_star_opt, p1, p2, T, tau)\n",
    "    return -(np.log(c1**alpha*c2**(1-alpha))-nu*(L_star_opt)**(1+epsilon)/(1+epsilon) - kappa*y_star2_opt)"
   ]
  },
  {
   "cell_type": "markdown",
   "metadata": {},
   "source": [
    "## 2. <a id='toc2_'></a>[Problem 2: Career choice model](#toc0_)"
   ]
  },
  {
   "cell_type": "markdown",
   "metadata": {},
   "source": [
    "Consider a graduate $i$ making a choice between entering $J$ different career tracks. <br>\n",
    "Entering career $j$ yields utility $u^k_{ij}$. This value is unknown to the graduate ex ante, but will ex post be: <br>\n",
    "$$\n",
    "    u_{i,j}^k = v_{j} + \\epsilon_{i,j}^k\n",
    "$$\n",
    "\n",
    "They know that $\\epsilon^k_{i,j}\\sim \\mathcal{N}(0,\\sigma^2)$, but they do not observe $\\epsilon^k_{i,j}$ before making their career choice. <br>"
   ]
  },
  {
   "cell_type": "markdown",
   "metadata": {},
   "source": [
    "Consider the concrete case of $J=3$ with:\n",
    "$$\n",
    "\\begin{align*}\n",
    "    v_{1} &= 1 \\\\\n",
    "    v_{2} &= 2 \\\\\n",
    "    v_{3} &= 3\n",
    "\\end{align*}\n",
    "$$"
   ]
  },
  {
   "cell_type": "markdown",
   "metadata": {},
   "source": [
    "If the graduates know the values of $v_j$ and the distribution of $\\epsilon_{i,j}^k$, they can calculate the expected utility of each career track using simulation: <br>\n",
    "$$\n",
    "    \\mathbb{E}\\left[ u^k_{i,j}\\vert v_j \\right] \\approx v_j + \\frac{1}{K}\\sum_{k=1}^K \\epsilon_{i,j}^k\n",
    "$$"
   ]
  },
  {
   "cell_type": "code",
   "execution_count": 17,
   "metadata": {},
   "outputs": [],
   "source": [
    "J = 3\n",
    "N = 10\n",
    "K = 10000\n",
    "\n",
    "F = np.arange(1,N+1)\n",
    "sigma = 2\n",
    "\n",
    "v = np.array([1,2,3])\n",
    "c = 1"
   ]
  },
  {
   "cell_type": "markdown",
   "metadata": {},
   "source": [
    "**Question 1:** Simulate and calculate expected utility and the average realised utility for $K=10000$ draws, for each career choice $j$.\n"
   ]
  },
  {
   "cell_type": "code",
   "execution_count": 18,
   "metadata": {},
   "outputs": [
    {
     "data": {
      "text/plain": [
       "array([-2.36538178,  2.67492331, -0.62861009, ...,  2.01242852,\n",
       "       -1.54397321, -0.6658964 ])"
      ]
     },
     "execution_count": 18,
     "metadata": {},
     "output_type": "execute_result"
    }
   ],
   "source": [
    "np.random.normal(0, sigma, size=K)"
   ]
  },
  {
   "cell_type": "code",
   "execution_count": 19,
   "metadata": {},
   "outputs": [],
   "source": [
    "eps_ijk = [np.random.normal(0, sigma, size=K), np.random.normal(0, sigma, size=K), np.random.normal(0, sigma, size=K)]"
   ]
  },
  {
   "cell_type": "code",
   "execution_count": 20,
   "metadata": {},
   "outputs": [
    {
     "data": {
      "text/html": [
       "<div>\n",
       "<style scoped>\n",
       "    .dataframe tbody tr th:only-of-type {\n",
       "        vertical-align: middle;\n",
       "    }\n",
       "\n",
       "    .dataframe tbody tr th {\n",
       "        vertical-align: top;\n",
       "    }\n",
       "\n",
       "    .dataframe thead th {\n",
       "        text-align: right;\n",
       "    }\n",
       "</style>\n",
       "<table border=\"1\" class=\"dataframe\">\n",
       "  <thead>\n",
       "    <tr style=\"text-align: right;\">\n",
       "      <th></th>\n",
       "      <th>u1</th>\n",
       "      <th>u2</th>\n",
       "      <th>u3</th>\n",
       "    </tr>\n",
       "  </thead>\n",
       "  <tbody>\n",
       "    <tr>\n",
       "      <th>0</th>\n",
       "      <td>0.996285</td>\n",
       "      <td>1.989331</td>\n",
       "      <td>2.969026</td>\n",
       "    </tr>\n",
       "  </tbody>\n",
       "</table>\n",
       "</div>"
      ],
      "text/plain": [
       "         u1        u2        u3\n",
       "0  0.996285  1.989331  2.969026"
      ]
     },
     "execution_count": 20,
     "metadata": {},
     "output_type": "execute_result"
    }
   ],
   "source": [
    "res = []\n",
    "\n",
    "res.append({\n",
    "    'u1': v[0] + np.mean(eps_ijk[0]),\n",
    "    'u2': v[1] + np.mean(eps_ijk[1]),\n",
    "    'u3': v[2] + np.mean(eps_ijk[2])\n",
    "})\n",
    "\n",
    "tab3 = pd.DataFrame(res)\n",
    "tab3"
   ]
  },
  {
   "cell_type": "markdown",
   "metadata": {},
   "source": [
    "Now consider a new scenario: Imagine that the graduate does not know $v_j$. The *only* prior information they have on the value of each job, comes from their $F_{i}$ friends that work in each career $j$. After talking with them, they know the average utility of their friends (which includes their friends' noise term), giving them the prior expecation: <br>\n",
    "$$\n",
    "\\tilde{u}^k_{i,j}\\left( F_{i}\\right) = \\frac{1}{F_{i}}\\sum_{f=1}^{F_{i}} \\left(v_{j} + \\epsilon^k_{f,j}\\right), \\; \\epsilon^k_{f,j}\\sim \\mathcal{N}(0,\\sigma^2)\n",
    "$$\n",
    "For ease of notation consider that each graduate have $F_{i}=i$ friends in each career. <br>"
   ]
  },
  {
   "cell_type": "markdown",
   "metadata": {},
   "source": [
    "For $K$ times do the following: <br>\n",
    "1. For each person $i$ draw $J\\cdot F_i$ values of $\\epsilon_{f,j}^{k}$, and calculate the prior expected utility of each career track, $\\tilde{u}^k_{i,j}\\left( F_{i}\\right)$. <br>\n",
    "Also draw their own $J$ noise terms, $\\epsilon_{i,j}^k$\n",
    "1. Each person $i$ chooses the career track with the highest expected utility: $$j_i^{k*}= \\arg\\max_{j\\in{1,2\\dots,J}}\\left\\{ \\tilde{u}^k_{i,j}\\left( F_{i}\\right)\\right\\} $$\n",
    "1. Store the chosen careers: $j_i^{k*}$, the prior expectation of the value of their chosen career: $\\tilde{u}^k_{i,j=j_i^{k*}}\\left( F_{i}\\right)$, and the realized value of their chosen career track: $u^k_{i,j=j_i^{k*}}=v_{j=j_i^{k*}}+\\epsilon_{i,j=j_i^{k*}}^k$."
   ]
  },
  {
   "cell_type": "code",
   "execution_count": 21,
   "metadata": {},
   "outputs": [
    {
     "data": {
      "text/html": [
       "<div>\n",
       "<style scoped>\n",
       "    .dataframe tbody tr th:only-of-type {\n",
       "        vertical-align: middle;\n",
       "    }\n",
       "\n",
       "    .dataframe tbody tr th {\n",
       "        vertical-align: top;\n",
       "    }\n",
       "\n",
       "    .dataframe thead th {\n",
       "        text-align: right;\n",
       "    }\n",
       "</style>\n",
       "<table border=\"1\" class=\"dataframe\">\n",
       "  <thead>\n",
       "    <tr style=\"text-align: right;\">\n",
       "      <th></th>\n",
       "      <th>u1</th>\n",
       "      <th>u2</th>\n",
       "      <th>u3</th>\n",
       "    </tr>\n",
       "  </thead>\n",
       "  <tbody>\n",
       "    <tr>\n",
       "      <th>0</th>\n",
       "      <td>0.201039</td>\n",
       "      <td>1.201039</td>\n",
       "      <td>2.201039</td>\n",
       "    </tr>\n",
       "    <tr>\n",
       "      <th>1</th>\n",
       "      <td>3.301947</td>\n",
       "      <td>3.801947</td>\n",
       "      <td>4.301947</td>\n",
       "    </tr>\n",
       "    <tr>\n",
       "      <th>2</th>\n",
       "      <td>5.134247</td>\n",
       "      <td>5.467580</td>\n",
       "      <td>5.800914</td>\n",
       "    </tr>\n",
       "    <tr>\n",
       "      <th>3</th>\n",
       "      <td>3.152225</td>\n",
       "      <td>3.402225</td>\n",
       "      <td>3.652225</td>\n",
       "    </tr>\n",
       "    <tr>\n",
       "      <th>4</th>\n",
       "      <td>-0.769905</td>\n",
       "      <td>-0.569905</td>\n",
       "      <td>-0.369905</td>\n",
       "    </tr>\n",
       "    <tr>\n",
       "      <th>5</th>\n",
       "      <td>3.169403</td>\n",
       "      <td>3.336069</td>\n",
       "      <td>3.502736</td>\n",
       "    </tr>\n",
       "    <tr>\n",
       "      <th>6</th>\n",
       "      <td>-0.780060</td>\n",
       "      <td>-0.637203</td>\n",
       "      <td>-0.494346</td>\n",
       "    </tr>\n",
       "    <tr>\n",
       "      <th>7</th>\n",
       "      <td>0.973992</td>\n",
       "      <td>1.098992</td>\n",
       "      <td>1.223992</td>\n",
       "    </tr>\n",
       "    <tr>\n",
       "      <th>8</th>\n",
       "      <td>0.135133</td>\n",
       "      <td>0.246244</td>\n",
       "      <td>0.357355</td>\n",
       "    </tr>\n",
       "    <tr>\n",
       "      <th>9</th>\n",
       "      <td>-0.268315</td>\n",
       "      <td>-0.168315</td>\n",
       "      <td>-0.068315</td>\n",
       "    </tr>\n",
       "  </tbody>\n",
       "</table>\n",
       "</div>"
      ],
      "text/plain": [
       "         u1        u2        u3\n",
       "0  0.201039  1.201039  2.201039\n",
       "1  3.301947  3.801947  4.301947\n",
       "2  5.134247  5.467580  5.800914\n",
       "3  3.152225  3.402225  3.652225\n",
       "4 -0.769905 -0.569905 -0.369905\n",
       "5  3.169403  3.336069  3.502736\n",
       "6 -0.780060 -0.637203 -0.494346\n",
       "7  0.973992  1.098992  1.223992\n",
       "8  0.135133  0.246244  0.357355\n",
       "9 -0.268315 -0.168315 -0.068315"
      ]
     },
     "execution_count": 21,
     "metadata": {},
     "output_type": "execute_result"
    }
   ],
   "source": [
    "u_s = []\n",
    "\n",
    "for i in range(N):\n",
    "    eps_kj = np.random.normal(0, sigma, size=J * F[i])\n",
    "    eps_ijk = [np.random.normal(0, sigma, size=K), np.random.normal(0, sigma, size=K), np.random.normal(0, sigma, size=K)]\n",
    "    \n",
    "    u_bar = 1/(i+1)*(v+eps_kj.sum())\n",
    "\n",
    "    u1, u2, u3 = u_bar\n",
    "\n",
    "    u_s.append({\n",
    "        'u1': u1,\n",
    "        'u2': u2,\n",
    "        'u3': u3\n",
    "    })\n",
    "\n",
    "tab4 = pd.DataFrame(u_s)\n",
    "tab4"
   ]
  },
  {
   "cell_type": "markdown",
   "metadata": {},
   "source": [
    "Chosen values will be: <br>\n",
    "$i\\in\\left\\{1,2\\dots,N\\right\\}, N=10$ <br>\n",
    "$F_i = i$<br>\n",
    "So there are 10 graduates. The first has 1 friend in each career, the second has 2 friends, ... the tenth has 10 friends."
   ]
  },
  {
   "cell_type": "markdown",
   "metadata": {},
   "source": [
    "**Question 2:** Simulate and visualize: For each type of graduate, $i$, the share of graduates choosing each career, the average subjective expected utility of the graduates, and the average ex post realized utility given their choice. <br>\n",
    "That is, calculate and visualize: <br>\n",
    "$$\n",
    "\\begin{align*}\n",
    "    \\frac{1}{K} \\sum_{k=1}^{K} \\mathbb{I}\\left\\{ j=j_i^{k*} \\right\\}  \\;\\forall j\\in\\left\\{1,2,\\dots,J\\right\\}\n",
    "\\end{align*}\n",
    "$$\n",
    "$$\n",
    "\\begin{align*}\n",
    "    \\frac{1}{K} \\sum_{k=1}^{K} \\tilde{u}^k_{ij=j_i^{k*}}\\left( F_{i}\\right)\n",
    "\\end{align*}\n",
    "$$\n",
    "And \n",
    "$$\n",
    "\\begin{align*}\n",
    "    \\frac{1}{K} \\sum_{k=1}^{K} u^k_{ij=j_i^{k*}} \n",
    "\\end{align*}\n",
    "$$\n",
    "For each graduate $i$."
   ]
  },
  {
   "cell_type": "code",
   "execution_count": 22,
   "metadata": {},
   "outputs": [],
   "source": [
    "# Write your answer here "
   ]
  },
  {
   "cell_type": "markdown",
   "metadata": {},
   "source": [
    "After a year of working in their career, the graduates learn $u^k_{ij}$ for their chosen job $j_i^{k*}$ perfectly. <br>\n",
    "The can switch to one of the two remaining careers, for which they have the same prior as before, but it will now include a switching cost of $c$ which is known.\n",
    "Their new priors can be written as: \n",
    "$$\n",
    "\\tilde{u}^{k,2}_{ij}\\left( F_{i}\\right) = \\begin{cases}\n",
    "            \\tilde{u}^k_{ij}\\left( F_{i}\\right)-c & \\text{if } j \\neq j_i^{k*} \\\\\n",
    "            u_{ij=j_i^{k*}} & \\text{if } j = j_i^{k*}\n",
    "        \\end{cases}\n",
    "$$"
   ]
  },
  {
   "cell_type": "markdown",
   "metadata": {},
   "source": [
    "We will set $c=1$."
   ]
  },
  {
   "cell_type": "markdown",
   "metadata": {},
   "source": [
    "Their realized utility will be: <br>\n",
    "$$\n",
    "u^{k,2}_{ij}= \\begin{cases}\n",
    "            u_{ij}^k -c & \\text{if } j \\neq j_i^{k*} \\\\\n",
    "            u_{ij=j_i^{k*}} & \\text{if } j = j_i^{k*}\n",
    "        \\end{cases}\n",
    "$$"
   ]
  },
  {
   "cell_type": "markdown",
   "metadata": {},
   "source": [
    "**Question 3:** Following the same approach as in question 2, find the new optimal career choice for each $i$, $k$. Then for each $i$, calculate the average subjective expected utility from their new optimal career choice, and the ex post realized utility of that career. Also, for each $i$, calculate the share of graduates that chooses to switch careers, conditional on which career they chose in the first year. <br>"
   ]
  },
  {
   "cell_type": "code",
   "execution_count": 23,
   "metadata": {},
   "outputs": [],
   "source": [
    "# write your answer here"
   ]
  },
  {
   "cell_type": "markdown",
   "metadata": {},
   "source": [
    "## 3. <a id='toc3_'></a>[Problem 3: Barycentric interpolation](#toc0_)"
   ]
  },
  {
   "cell_type": "markdown",
   "metadata": {},
   "source": [
    "**Problem:** We have a set of random points in the unit square,\n",
    "\n",
    "$$\n",
    "\\mathcal{X} = \\{(x_1,x_2)\\,|\\,x_1\\sim\\mathcal{U}(0,1),x_2\\sim\\mathcal{U}(0,1)\\}.\n",
    "$$\n",
    "\n",
    "For these points, we know the value of some function $f(x_1,x_2)$,\n",
    "\n",
    "$$\n",
    "\\mathcal{F} = \\{f(x_1,x_2) \\,|\\, (x_1,x_2) \\in \\mathcal{X}\\}.\n",
    "$$\n",
    "\n",
    "Now we want to approximate the value $f(y_1,y_2)$ for some  $y=(y_1,y_2)$, where $y_1\\sim\\mathcal{U}(0,1)$ and $y_2\\sim\\mathcal{U}(0,1)$.\n",
    "\n",
    "**Building block I**\n",
    "\n",
    "For an arbitrary triangle $ABC$ and a point $y$, define the so-called barycentric coordinates as:\n",
    "\n",
    "$$\n",
    "\\begin{align*}\n",
    "  r^{ABC}_1 &= \\frac{(B_2-C_2)(y_1-C_1) + (C_1-B_1)(y_2-C_2)}{(B_2-C_2)(A_1-C_1) + (C_1-B_1)(A_2-C_2)} \\\\\n",
    "  r^{ABC}_2 &= \\frac{(C_2-A_2)(y_1-C_1) + (A_1-C_1)(y_2-C_2)}{(B_2-C_2)(A_1-C_1) + (C_1-B_1)(A_2-C_2)} \\\\\n",
    "  r^{ABC}_3 &= 1 - r_1 - r_2.\n",
    "\\end{align*}\n",
    "$$\n",
    "\n",
    "If $r^{ABC}_1 \\in [0,1]$, $r^{ABC}_2 \\in [0,1]$, and $r^{ABC}_3 \\in [0,1]$, then the point is inside the triangle.\n",
    "\n",
    "We always have $y = r^{ABC}_1 A + r^{ABC}_2 B + r^{ABC}_3 C$.\n",
    "\n",
    "**Building block II**\n",
    "\n",
    "Define the following points:\n",
    "\n",
    "$$\n",
    "\\begin{align*}\n",
    "A&=\\arg\\min_{(x_{1},x_{2})\\in\\mathcal{X}}\\sqrt{\\left(x_{1}-y_{1}\\right)^{2}+\\left(x_{2}-y_{2}\\right)^{2}}\\text{ s.t. }x_{1}>y_{1}\\text{ and }x_{2}>y_{2}\\\\\n",
    "B&=\\arg\\min_{(x_{1},x_{2})\\in\\mathcal{X}}\\sqrt{\\left(x_{1}-y_{1}\\right)^{2}+\\left(x_{2}-y_{2}\\right)^{2}}\\text{ s.t. }x_{1}>y_{1}\\text{ and }x_{2}<y_{2}\\\\\n",
    "C&=\\arg\\min_{(x_{1},x_{2})\\in\\mathcal{X}}\\sqrt{\\left(x_{1}-y_{1}\\right)^{2}+\\left(x_{2}-y_{2}\\right)^{2}}\\text{ s.t. }x_{1}<y_{1}\\text{ and }x_{2}<y_{2}\\\\\n",
    "D&=\\arg\\min_{(x_{1},x_{2})\\in\\mathcal{X}}\\sqrt{\\left(x_{1}-y_{1}\\right)^{2}+\\left(x_{2}-y_{2}\\right)^{2}}\\text{ s.t. }x_{1}<y_{1}\\text{ and }x_{2}>y_{2}.\n",
    "\\end{align*}\n",
    "$$\n",
    "\n",
    "**Algorithm:**\n",
    "\n",
    "1. Compute $A$, $B$, $C$, and $D$. If not possible return `NaN`.\n",
    "1. If $y$ is inside the triangle $ABC$ return $r^{ABC}_1 f(A) + r^{ABC}_2 f(B) + r^{ABC}_3 f(C)$.\n",
    "1. If $y$ is inside the triangle $CDA$ return $r^{CDA}_1 f(C) + r^{CDA}_2 f(D) + r^{CDA}_3 f(A)$.\n",
    "1. Return `NaN`.\n",
    "\n"
   ]
  },
  {
   "cell_type": "markdown",
   "metadata": {},
   "source": [
    "**Sample:**"
   ]
  },
  {
   "cell_type": "code",
   "execution_count": 24,
   "metadata": {},
   "outputs": [],
   "source": [
    "rng = np.random.default_rng(2024)\n",
    "\n",
    "X = rng.uniform(size=(50,2))\n",
    "y = rng.uniform(size=(2,))\n"
   ]
  },
  {
   "cell_type": "code",
   "execution_count": 25,
   "metadata": {},
   "outputs": [
    {
     "data": {
      "text/plain": [
       "array([0.20901926, 0.37774759])"
      ]
     },
     "execution_count": 25,
     "metadata": {},
     "output_type": "execute_result"
    }
   ],
   "source": [
    "y"
   ]
  },
  {
   "cell_type": "markdown",
   "metadata": {},
   "source": [
    "**Questions 1:** Find $A$, $B$, $C$ and $D$. Illustrate these together with $X$, $y$ and the triangles $ABC$ and $CDA$."
   ]
  },
  {
   "cell_type": "code",
   "execution_count": 26,
   "metadata": {},
   "outputs": [],
   "source": [
    "def obj_sq(X):\n",
    "    return np.sqrt((X[0]-y[0])**2 + (X[1]-y[1])**2)\n",
    "\n",
    "err = 0.01\n",
    "\n",
    "# x1 > y1\n",
    "def constraint_1_1(X):\n",
    "    return X[0]-y[0]-err\n",
    "\n",
    "# y1 > x1\n",
    "def constraint_1_2(X):\n",
    "    return y[0]-X[0]-err\n",
    "\n",
    "# x2 > y2\n",
    "def constraint_2_1(X):\n",
    "    return X[1] - y[1]-err\n",
    "\n",
    "# y2 > x2\n",
    "def constraint_2_2(X):\n",
    "    return y[1] - X[1]-err\n",
    "\n",
    "# x1 > y1 & x2 > y2\n",
    "constraints_A = [{'type': 'ineq', 'fun': constraint_1_1},\n",
    "               {'type': 'ineq', 'fun': constraint_2_1}] \n",
    "\n",
    "# x1 > y1 & x2 < y2\n",
    "constraints_B = [{'type': 'ineq', 'fun': constraint_1_1},\n",
    "               {'type': 'ineq', 'fun': constraint_2_2}] \n",
    "\n",
    "# x1 < y1 & x2 < y2\n",
    "constraints_C = [{'type': 'ineq', 'fun': constraint_1_2},\n",
    "               {'type': 'ineq', 'fun': constraint_2_2}] \n",
    "\n",
    "# x1 < y1 & x2 > y2\n",
    "constraints_D = [{'type': 'ineq', 'fun': constraint_1_2},\n",
    "               {'type': 'ineq', 'fun': constraint_2_1}] \n",
    "\n",
    "res_A=optimize.minimize(obj_sq, x0=(0.1,0.1), constraints=constraints_A)\n",
    "A = res_A.x\n",
    "x1A, x2A = A\n",
    "\n",
    "res_B=optimize.minimize(obj_sq, x0=(0.1,0.1), constraints=constraints_B)\n",
    "B = res_B.x\n",
    "x1B, x2B = B\n",
    "\n",
    "res_C=optimize.minimize(obj_sq, x0=(0.1,0.1), constraints=constraints_C)\n",
    "C = res_C.x\n",
    "x1C, x2C = C\n",
    "\n",
    "res_D=optimize.minimize(obj_sq, x0=(0.1,0.1), constraints=constraints_D)\n",
    "D = res_D.x\n",
    "x1D, x2D = D"
   ]
  },
  {
   "cell_type": "code",
   "execution_count": 27,
   "metadata": {},
   "outputs": [
    {
     "data": {
      "text/plain": [
       "<matplotlib.legend.Legend at 0x29d941464e0>"
      ]
     },
     "execution_count": 27,
     "metadata": {},
     "output_type": "execute_result"
    },
    {
     "data": {
      "image/png": "[encoded data removed]",
      "text/plain": [
       "<Figure size 640x480 with 1 Axes>"
      ]
     },
     "metadata": {},
     "output_type": "display_data"
    }
   ],
   "source": [
    "fig, ax = plt.subplots()\n",
    "\n",
    "ax.fill([x1A, x1B, x1C], [x1B, x2B, x2C], color='r', alpha=0.3, label=r'$ABC$')\n",
    "ax.fill([x1C, x1D, x1A], [x1C, x2D, x2A], color='b', alpha=0.3, label=r'$CDA$')\n",
    "ax.plot(y[0], y[1], marker='o', color='black', label=fr'$(y_1, y_2)$')\n",
    "ax.legend()"
   ]
  },
  {
   "cell_type": "markdown",
   "metadata": {},
   "source": [
    "**Question 2:** Compute the barycentric coordinates of the point $y$ with respect to the triangles $ABC$ and $CDA$. Which triangle is $y$ located inside?"
   ]
  },
  {
   "cell_type": "code",
   "execution_count": 38,
   "metadata": {},
   "outputs": [],
   "source": [
    "def bary_coords(X1, X2, X3, y):\n",
    "\n",
    "    r1 = ((X2[1]-X3[1])*(y[0]-X3[0])+(X3[0]-X2[0])*(y[1]-X3[1]))/((X2[1]-X3[1])*(X1[0]-X3[0])+(X3[0]-X2[0])*(X1[1]-X3[1]))\n",
    "\n",
    "    r2 = ((X3[1]-X1[1])*(y[0]-X3[0])+(X1[0]-X3[0])*(y[1]-X3[1]))/((X2[1]-X3[1])*(X1[0]-X3[0])+(X3[0]-X2[0])*(X1[1]-X3[1]))\n",
    "\n",
    "    r3 = 1-r1-r2\n",
    "\n",
    "    return r1, r2, r3\n",
    "\n",
    "def check_coords(r1, r2, r3, y):\n",
    "    coords = np.array([r1, r2, r3])\n",
    "\n",
    "    y0, y1 = y\n",
    "\n",
    "    if np.all((coords >= 0) & (coords <=1)) == True:\n",
    "        print(f'the points y = ({y0:.2f}, {y1:.2f}) is in triangle')\n",
    "    else: \n",
    "        print(f'the points y = ({y0:.2f}, {y1:.2f}) is not in triangle')"
   ]
  },
  {
   "cell_type": "code",
   "execution_count": 39,
   "metadata": {},
   "outputs": [
    {
     "name": "stdout",
     "output_type": "stream",
     "text": [
      "the points y = (0.21, 0.38) is not in triangle\n"
     ]
    }
   ],
   "source": [
    "r1, r2, r3 = bary_coords(A, B, C, y)\n",
    "check_coords(r1, r2, r3, y)"
   ]
  },
  {
   "cell_type": "code",
   "execution_count": 40,
   "metadata": {},
   "outputs": [
    {
     "name": "stdout",
     "output_type": "stream",
     "text": [
      "the points y = (0.21, 0.38) is in triangle\n"
     ]
    }
   ],
   "source": [
    "r1, r2, r3 = bary_coords(C, D, A, y)\n",
    "check_coords(r1, r2, r3, y)"
   ]
  },
  {
   "cell_type": "markdown",
   "metadata": {},
   "source": [
    "Now consider the function:\n",
    "$$\n",
    "f(x_1,x_2) = x_1 \\cdot x_2\n",
    "$$"
   ]
  },
  {
   "cell_type": "code",
   "execution_count": 34,
   "metadata": {},
   "outputs": [],
   "source": [
    "f = lambda x: x[0]*x[1]\n",
    "F = np.array([f(x) for x in X])"
   ]
  },
  {
   "cell_type": "markdown",
   "metadata": {},
   "source": [
    "**Question 3:** Compute the approximation of $f(y)$ using the full algorithm. Compare with the true value."
   ]
  },
  {
   "cell_type": "code",
   "execution_count": 48,
   "metadata": {},
   "outputs": [],
   "source": [
    "def check_coords(coords):\n",
    "    coords = np.array([coords])\n",
    "    return np.all((coords >= 0) & (coords <=1))"
   ]
  },
  {
   "cell_type": "code",
   "execution_count": 51,
   "metadata": {},
   "outputs": [],
   "source": [
    "def bary_interp(X, y, f):\n",
    "    res_A=optimize.minimize(obj_sq, x0=(0.1,0.1), constraints=constraints_A)\n",
    "    A = res_A.x\n",
    "    x1A, x2A = A\n",
    "\n",
    "    res_B=optimize.minimize(obj_sq, x0=(0.1,0.1), constraints=constraints_B)\n",
    "    B = res_B.x\n",
    "    x1B, x2B = B\n",
    "\n",
    "    res_C=optimize.minimize(obj_sq, x0=(0.1,0.1), constraints=constraints_C)\n",
    "    C = res_C.x\n",
    "    x1C, x2C = C\n",
    "\n",
    "    res_D=optimize.minimize(obj_sq, x0=(0.1,0.1), constraints=constraints_D)\n",
    "    D = res_D.x\n",
    "    x1D, x2D = D\n",
    "    \n",
    "    ABC_coords = bary_coords(A, B, C, y)\n",
    "    CDA_coords = bary_coords(C, D, A, y)\n",
    "\n",
    "    if check_coords(ABC_coords)==True:\n",
    "        r1, r2, r3 = ABC_coords\n",
    "        return r1 * f(A) + r2 * f(B) + r3 * f(C)\n",
    "    elif check_coords(CDA_coords)==True:\n",
    "        r1, r2, r3 = CDA_coords\n",
    "        return r1 * f(C) + r2 * f(D) + r3 * f(A)"
   ]
  },
  {
   "cell_type": "code",
   "execution_count": 52,
   "metadata": {},
   "outputs": [
    {
     "data": {
      "text/plain": [
       "0.07905652162595939"
      ]
     },
     "execution_count": 52,
     "metadata": {},
     "output_type": "execute_result"
    }
   ],
   "source": [
    "bary_interp(X, y, f)"
   ]
  },
  {
   "cell_type": "code",
   "execution_count": 53,
   "metadata": {},
   "outputs": [
    {
     "data": {
      "text/plain": [
       "0.0789565216259594"
      ]
     },
     "execution_count": 53,
     "metadata": {},
     "output_type": "execute_result"
    }
   ],
   "source": [
    "f(y)"
   ]
  },
  {
   "cell_type": "markdown",
   "metadata": {},
   "source": [
    "**Question 4:** Repeat question 3 for all points in the set $Y$."
   ]
  },
  {
   "cell_type": "code",
   "execution_count": 55,
   "metadata": {},
   "outputs": [],
   "source": [
    "Y = [(0.2,0.2),(0.8,0.2),(0.8,0.8),(0.8,0.2),(0.5,0.5)]"
   ]
  },
  {
   "cell_type": "code",
   "execution_count": 56,
   "metadata": {},
   "outputs": [
    {
     "data": {
      "text/html": [
       "<div>\n",
       "<style scoped>\n",
       "    .dataframe tbody tr th:only-of-type {\n",
       "        vertical-align: middle;\n",
       "    }\n",
       "\n",
       "    .dataframe tbody tr th {\n",
       "        vertical-align: top;\n",
       "    }\n",
       "\n",
       "    .dataframe thead th {\n",
       "        text-align: right;\n",
       "    }\n",
       "</style>\n",
       "<table border=\"1\" class=\"dataframe\">\n",
       "  <thead>\n",
       "    <tr style=\"text-align: right;\">\n",
       "      <th></th>\n",
       "      <th>Interpolated</th>\n",
       "      <th>True</th>\n",
       "      <th>(y1,y2)</th>\n",
       "    </tr>\n",
       "  </thead>\n",
       "  <tbody>\n",
       "    <tr>\n",
       "      <th>0</th>\n",
       "      <td>0.0401</td>\n",
       "      <td>0.04</td>\n",
       "      <td>(0.2, 0.2)</td>\n",
       "    </tr>\n",
       "    <tr>\n",
       "      <th>1</th>\n",
       "      <td>0.1601</td>\n",
       "      <td>0.16</td>\n",
       "      <td>(0.8, 0.2)</td>\n",
       "    </tr>\n",
       "    <tr>\n",
       "      <th>2</th>\n",
       "      <td>0.6401</td>\n",
       "      <td>0.64</td>\n",
       "      <td>(0.8, 0.8)</td>\n",
       "    </tr>\n",
       "    <tr>\n",
       "      <th>3</th>\n",
       "      <td>0.1601</td>\n",
       "      <td>0.16</td>\n",
       "      <td>(0.8, 0.2)</td>\n",
       "    </tr>\n",
       "    <tr>\n",
       "      <th>4</th>\n",
       "      <td>0.2501</td>\n",
       "      <td>0.25</td>\n",
       "      <td>(0.5, 0.5)</td>\n",
       "    </tr>\n",
       "  </tbody>\n",
       "</table>\n",
       "</div>"
      ],
      "text/plain": [
       "   Interpolated  True     (y1,y2)\n",
       "0        0.0401  0.04  (0.2, 0.2)\n",
       "1        0.1601  0.16  (0.8, 0.2)\n",
       "2        0.6401  0.64  (0.8, 0.8)\n",
       "3        0.1601  0.16  (0.8, 0.2)\n",
       "4        0.2501  0.25  (0.5, 0.5)"
      ]
     },
     "execution_count": 56,
     "metadata": {},
     "output_type": "execute_result"
    }
   ],
   "source": [
    "res = []\n",
    "\n",
    "for y in Y:\n",
    "    interp_val = bary_interp(X, y, f)\n",
    "    true_val = f(y)\n",
    "    y1, y2 = y\n",
    "    res.append({\n",
    "        'Interpolated': interp_val,\n",
    "        'True': true_val,\n",
    "        '(y1,y2)': (y1, y2)\n",
    "    })\n",
    "\n",
    "tab5 = pd.DataFrame(res)\n",
    "tab5"
   ]
  }
 ],
 "metadata": {
  "kernelspec": {
   "display_name": "base",
   "language": "python",
   "name": "python3"
  },
  "language_info": {
   "codemirror_mode": {
    "name": "ipython",
    "version": 3
   },
   "file_extension": ".py",
   "mimetype": "text/x-python",
   "name": "python",
   "nbconvert_exporter": "python",
   "pygments_lexer": "ipython3",
   "version": "3.12.3"
  }
 },
 "nbformat": 4,
 "nbformat_minor": 2
}
